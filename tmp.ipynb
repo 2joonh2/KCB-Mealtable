{
 "cells": [
  {
   "cell_type": "code",
   "execution_count": 1,
   "id": "78e9a8e9",
   "metadata": {},
   "outputs": [],
   "source": [
    "import numpy as np\n",
    "x = np.random.random((32,)) \n",
    "w = np.random.random((32,)) \n",
    "y = np.dot(w, x) "
   ]
  },
  {
   "cell_type": "code",
   "execution_count": 3,
   "id": "7f69e086",
   "metadata": {},
   "outputs": [
    {
     "data": {
      "text/plain": [
       "array([0.21797286, 0.42059433, 0.96069455, 0.04674613, 0.60875105,\n",
       "       0.5280008 , 0.56293987, 0.3427067 , 0.59979752, 0.26031496,\n",
       "       0.41574832, 0.93625332, 0.57972098, 0.99073657, 0.43744513,\n",
       "       0.19535352, 0.31200396, 0.1357396 , 0.65045804, 0.2791616 ,\n",
       "       0.36246611, 0.73081549, 0.78678493, 0.49776096, 0.75831117,\n",
       "       0.01035557, 0.25549951, 0.47696881, 0.39698357, 0.31251463,\n",
       "       0.07855998, 0.25391585])"
      ]
     },
     "execution_count": 3,
     "metadata": {},
     "output_type": "execute_result"
    }
   ],
   "source": [
    "x"
   ]
  },
  {
   "cell_type": "code",
   "execution_count": 4,
   "id": "613de885",
   "metadata": {},
   "outputs": [
    {
     "data": {
      "text/plain": [
       "array([0.26558793, 0.1613139 , 0.48745359, 0.56200577, 0.57204042,\n",
       "       0.24164272, 0.72333597, 0.76555422, 0.07410183, 0.78668668,\n",
       "       0.08176804, 0.665274  , 0.37519038, 0.00754143, 0.853369  ,\n",
       "       0.32679577, 0.2554162 , 0.15683238, 0.84528019, 0.58352432,\n",
       "       0.89873245, 0.22980574, 0.54419385, 0.73302552, 0.02982096,\n",
       "       0.57765883, 0.89337589, 0.25409463, 0.30222866, 0.95133092,\n",
       "       0.78127912, 0.96041353])"
      ]
     },
     "execution_count": 4,
     "metadata": {},
     "output_type": "execute_result"
    }
   ],
   "source": [
    "w"
   ]
  },
  {
   "cell_type": "code",
   "execution_count": 2,
   "id": "55ed2145",
   "metadata": {},
   "outputs": [
    {
     "data": {
      "text/plain": [
       "6.534900477653347"
      ]
     },
     "execution_count": 2,
     "metadata": {},
     "output_type": "execute_result"
    }
   ],
   "source": [
    "y"
   ]
  },
  {
   "cell_type": "code",
   "execution_count": null,
   "id": "068bdb62",
   "metadata": {},
   "outputs": [],
   "source": []
  }
 ],
 "metadata": {
  "kernelspec": {
   "display_name": "Python 3 (ipykernel)",
   "language": "python",
   "name": "python3"
  },
  "language_info": {
   "codemirror_mode": {
    "name": "ipython",
    "version": 3
   },
   "file_extension": ".py",
   "mimetype": "text/x-python",
   "name": "python",
   "nbconvert_exporter": "python",
   "pygments_lexer": "ipython3",
   "version": "3.9.7"
  }
 },
 "nbformat": 4,
 "nbformat_minor": 5
}
