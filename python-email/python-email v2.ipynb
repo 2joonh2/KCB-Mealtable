{
 "cells": [
  {
   "cell_type": "markdown",
   "id": "aa0dd189",
   "metadata": {},
   "source": [
    "### https://yeolco.tistory.com/93"
   ]
  },
  {
   "cell_type": "code",
   "execution_count": 1,
   "id": "f13a3486",
   "metadata": {},
   "outputs": [],
   "source": [
    "import smtplib\n",
    "from email.mime.text import MIMEText"
   ]
  },
  {
   "cell_type": "code",
   "execution_count": 2,
   "id": "5884aa12",
   "metadata": {},
   "outputs": [],
   "source": [
    "def sendmail(error=False):\n",
    "    # 세션 생성\n",
    "    s = smtplib.SMTP('smtp.gmail.com', 587)# TLS 보안 시작\n",
    "    s.starttls()\n",
    "    account_mail_address=\"2joonh2@gmail.com\"\n",
    "\n",
    "    f = open(\"C:\\\\Users\\\\2joon\\\\OneDrive\\\\문서\\\\Gmail-app_pw.txt\", 'r')\n",
    "    pw = f.read()\n",
    "    f.close()\n",
    "\n",
    "    # 로그인 인증\n",
    "    s.login(account_mail_address, pw)\n",
    "\n",
    "    if error == False:     \n",
    "        msg = MIMEText('The jupyter notebook has been completed.')\n",
    "        msg['Subject'] = 'Execution Completed'\n",
    "    else:\n",
    "        msg = MIMEText('Error has occured, as below reason\\n\\n'+error)\n",
    "        msg['Subject'] = 'Execution Failed'\n",
    "    \n",
    "    # 보낼 메시지 설정 - for 'try' successfuly being completed\n",
    "\n",
    "    #메일 보내기\n",
    "    s.sendmail(account_mail_address, \"2joonh2@gmail.com\", msg.as_string())\n",
    "    # 세션 종료\n",
    "    s.quit()"
   ]
  },
  {
   "cell_type": "code",
   "execution_count": 3,
   "id": "f2ad2c79",
   "metadata": {},
   "outputs": [],
   "source": [
    "try:\n",
    "    print(true)\n",
    "    sendmail()\n",
    "except Exception as ex:\n",
    "    sendmail(str(ex))"
   ]
  },
  {
   "cell_type": "code",
   "execution_count": null,
   "id": "ae26bc7b",
   "metadata": {},
   "outputs": [],
   "source": []
  }
 ],
 "metadata": {
  "kernelspec": {
   "display_name": "Python 3 (ipykernel)",
   "language": "python",
   "name": "python3"
  },
  "language_info": {
   "codemirror_mode": {
    "name": "ipython",
    "version": 3
   },
   "file_extension": ".py",
   "mimetype": "text/x-python",
   "name": "python",
   "nbconvert_exporter": "python",
   "pygments_lexer": "ipython3",
   "version": "3.8.12"
  }
 },
 "nbformat": 4,
 "nbformat_minor": 5
}
