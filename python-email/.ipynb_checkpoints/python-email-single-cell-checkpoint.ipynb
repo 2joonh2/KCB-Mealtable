{
 "cells": [
  {
   "cell_type": "markdown",
   "id": "aa0dd189",
   "metadata": {},
   "source": [
    "### https://yeolco.tistory.com/93"
   ]
  },
  {
   "cell_type": "code",
   "execution_count": 1,
   "id": "c2012308",
   "metadata": {},
   "outputs": [],
   "source": [
    "import smtplib\n",
    "from email.mime.text import MIMEText\n",
    "# 세션 생성\n",
    "s = smtplib.SMTP('smtp.gmail.com', 587)# TLS 보안 시작\n",
    "s.starttls()\n",
    "account_mail_address=\"2joonh2@gmail.com\"\n",
    "\n",
    "f = open(\"C:\\\\Users\\\\2joon\\\\OneDrive\\\\문서\\\\Gmail-app_pw.txt\", 'r')\n",
    "pw = f.read()\n",
    "f.close()\n",
    "\n",
    "# 로그인 인증\n",
    "s.login(account_mail_address, pw)\n",
    "\n",
    "# 보낼 메시지 설정 - 1) try codes complete\n",
    "msg_t= MIMEText('The jupyter notebook has been completed.')\n",
    "msg_t['Subject'] = 'Execution Completed'\n",
    "\n",
    "# 보낼 메시지 설정 - 2) except codes; errors occur\n",
    "msg_f= MIMEText('An error has occured, the notebook send the message for alert.')\n",
    "msg_f['Subject'] = 'Execution Failed'"
   ]
  },
  {
   "cell_type": "code",
   "execution_count": 5,
   "id": "f2ad2c79",
   "metadata": {},
   "outputs": [
    {
     "data": {
      "text/plain": [
       "(221, b'2.0.0 closing connection k11sm2209552pfu.150 - gsmtp')"
      ]
     },
     "execution_count": 5,
     "metadata": {},
     "output_type": "execute_result"
    }
   ],
   "source": [
    "#메일 보내기\n",
    "s.sendmail(account_mail_address, \"2joonh2@kaist.ac.kr\", msg_t.as_string())\n",
    "\n",
    "# 세션 종료\n",
    "s.quit()"
   ]
  }
 ],
 "metadata": {
  "kernelspec": {
   "display_name": "Python 3 (ipykernel)",
   "language": "python",
   "name": "python3"
  },
  "language_info": {
   "codemirror_mode": {
    "name": "ipython",
    "version": 3
   },
   "file_extension": ".py",
   "mimetype": "text/x-python",
   "name": "python",
   "nbconvert_exporter": "python",
   "pygments_lexer": "ipython3",
   "version": "3.8.12"
  }
 },
 "nbformat": 4,
 "nbformat_minor": 5
}
