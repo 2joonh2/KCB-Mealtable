{
 "cells": [
  {
   "cell_type": "markdown",
   "id": "342e85af",
   "metadata": {
    "papermill": {
     "duration": 0.009969,
     "end_time": "2022-05-26T20:27:50.526407",
     "exception": false,
     "start_time": "2022-05-26T20:27:50.516438",
     "status": "completed"
    },
    "tags": []
   },
   "source": [
    "## Logistic Regression"
   ]
  },
  {
   "cell_type": "code",
   "execution_count": 1,
   "id": "fd612a29",
   "metadata": {
    "execution": {
     "iopub.execute_input": "2022-05-26T20:27:50.544837Z",
     "iopub.status.busy": "2022-05-26T20:27:50.544360Z",
     "iopub.status.idle": "2022-05-26T20:27:51.780553Z",
     "shell.execute_reply": "2022-05-26T20:27:51.779149Z"
    },
    "papermill": {
     "duration": 1.248525,
     "end_time": "2022-05-26T20:27:51.783458",
     "exception": false,
     "start_time": "2022-05-26T20:27:50.534933",
     "status": "completed"
    },
    "tags": []
   },
   "outputs": [],
   "source": [
    "import pandas as pd\n",
    "import statsmodels.api as sm\n",
    "import math\n",
    "from sklearn.linear_model import LogisticRegression"
   ]
  },
  {
   "cell_type": "markdown",
   "id": "d6c5a6f9",
   "metadata": {},
   "source": [
    "## 1. Import Data"
   ]
  },
  {
   "cell_type": "code",
   "execution_count": 2,
   "id": "f14a2eb9",
   "metadata": {
    "scrolled": true
   },
   "outputs": [
    {
     "name": "stdout",
     "output_type": "stream",
     "text": [
      "710\n"
     ]
    },
    {
     "data": {
      "text/html": [
       "<div>\n",
       "<style scoped>\n",
       "    .dataframe tbody tr th:only-of-type {\n",
       "        vertical-align: middle;\n",
       "    }\n",
       "\n",
       "    .dataframe tbody tr th {\n",
       "        vertical-align: top;\n",
       "    }\n",
       "\n",
       "    .dataframe thead th {\n",
       "        text-align: right;\n",
       "    }\n",
       "</style>\n",
       "<table border=\"1\" class=\"dataframe\">\n",
       "  <thead>\n",
       "    <tr style=\"text-align: right;\">\n",
       "      <th></th>\n",
       "      <th>deal_id</th>\n",
       "      <th>start_date</th>\n",
       "      <th>min_req</th>\n",
       "      <th>treatment</th>\n",
       "      <th>prom_length</th>\n",
       "      <th>price</th>\n",
       "      <th>discount_pct</th>\n",
       "      <th>coupon_duration</th>\n",
       "      <th>featured</th>\n",
       "      <th>limited_supply</th>\n",
       "      <th>fb_likes</th>\n",
       "      <th>quantity_sold</th>\n",
       "      <th>revenue</th>\n",
       "    </tr>\n",
       "  </thead>\n",
       "  <tbody>\n",
       "    <tr>\n",
       "      <th>0</th>\n",
       "      <td>heli-flights</td>\n",
       "      <td>9/23/2011</td>\n",
       "      <td>10</td>\n",
       "      <td>1</td>\n",
       "      <td>4</td>\n",
       "      <td>99</td>\n",
       "      <td>51</td>\n",
       "      <td>185</td>\n",
       "      <td>1</td>\n",
       "      <td>1</td>\n",
       "      <td>290</td>\n",
       "      <td>540</td>\n",
       "      <td>53460</td>\n",
       "    </tr>\n",
       "    <tr>\n",
       "      <th>1</th>\n",
       "      <td>gl-champion-series-tennis-electric-factory</td>\n",
       "      <td>9/23/2011</td>\n",
       "      <td>20</td>\n",
       "      <td>1</td>\n",
       "      <td>2</td>\n",
       "      <td>95</td>\n",
       "      <td>41</td>\n",
       "      <td>9</td>\n",
       "      <td>0</td>\n",
       "      <td>1</td>\n",
       "      <td>43</td>\n",
       "      <td>190</td>\n",
       "      <td>18050</td>\n",
       "    </tr>\n",
       "    <tr>\n",
       "      <th>2</th>\n",
       "      <td>realm-of-terror-horror-experience</td>\n",
       "      <td>9/23/2011</td>\n",
       "      <td>50</td>\n",
       "      <td>1</td>\n",
       "      <td>3</td>\n",
       "      <td>25</td>\n",
       "      <td>50</td>\n",
       "      <td>38</td>\n",
       "      <td>0</td>\n",
       "      <td>1</td>\n",
       "      <td>208</td>\n",
       "      <td>380</td>\n",
       "      <td>9500</td>\n",
       "    </tr>\n",
       "    <tr>\n",
       "      <th>3</th>\n",
       "      <td>newport-gourmet</td>\n",
       "      <td>9/23/2011</td>\n",
       "      <td>15</td>\n",
       "      <td>1</td>\n",
       "      <td>3</td>\n",
       "      <td>50</td>\n",
       "      <td>50</td>\n",
       "      <td>369</td>\n",
       "      <td>0</td>\n",
       "      <td>1</td>\n",
       "      <td>16</td>\n",
       "      <td>90</td>\n",
       "      <td>4500</td>\n",
       "    </tr>\n",
       "    <tr>\n",
       "      <th>4</th>\n",
       "      <td>the-clayroom</td>\n",
       "      <td>9/23/2011</td>\n",
       "      <td>20</td>\n",
       "      <td>1</td>\n",
       "      <td>4</td>\n",
       "      <td>25</td>\n",
       "      <td>52</td>\n",
       "      <td>185</td>\n",
       "      <td>0</td>\n",
       "      <td>1</td>\n",
       "      <td>85</td>\n",
       "      <td>580</td>\n",
       "      <td>14500</td>\n",
       "    </tr>\n",
       "  </tbody>\n",
       "</table>\n",
       "</div>"
      ],
      "text/plain": [
       "                                      deal_id start_date  min_req  treatment  \\\n",
       "0                                heli-flights  9/23/2011       10          1   \n",
       "1  gl-champion-series-tennis-electric-factory  9/23/2011       20          1   \n",
       "2           realm-of-terror-horror-experience  9/23/2011       50          1   \n",
       "3                             newport-gourmet  9/23/2011       15          1   \n",
       "4                                the-clayroom  9/23/2011       20          1   \n",
       "\n",
       "   prom_length  price  discount_pct  coupon_duration  featured  \\\n",
       "0            4     99            51              185         1   \n",
       "1            2     95            41                9         0   \n",
       "2            3     25            50               38         0   \n",
       "3            3     50            50              369         0   \n",
       "4            4     25            52              185         0   \n",
       "\n",
       "   limited_supply  fb_likes  quantity_sold  revenue  \n",
       "0               1       290            540    53460  \n",
       "1               1        43            190    18050  \n",
       "2               1       208            380     9500  \n",
       "3               1        16             90     4500  \n",
       "4               1        85            580    14500  "
      ]
     },
     "execution_count": 2,
     "metadata": {},
     "output_type": "execute_result"
    }
   ],
   "source": [
    "df=pd.read_csv('./data/groupon.csv')\n",
    "print(len(df))\n",
    "df.head()"
   ]
  },
  {
   "cell_type": "markdown",
   "id": "41bf4b4b",
   "metadata": {},
   "source": [
    "## 2. Choose (Dependent and Independent) Variables"
   ]
  },
  {
   "cell_type": "code",
   "execution_count": 3,
   "id": "a7bd8280",
   "metadata": {},
   "outputs": [
    {
     "data": {
      "text/html": [
       "<div>\n",
       "<style scoped>\n",
       "    .dataframe tbody tr th:only-of-type {\n",
       "        vertical-align: middle;\n",
       "    }\n",
       "\n",
       "    .dataframe tbody tr th {\n",
       "        vertical-align: top;\n",
       "    }\n",
       "\n",
       "    .dataframe thead th {\n",
       "        text-align: right;\n",
       "    }\n",
       "</style>\n",
       "<table border=\"1\" class=\"dataframe\">\n",
       "  <thead>\n",
       "    <tr style=\"text-align: right;\">\n",
       "      <th></th>\n",
       "      <th>prom_length</th>\n",
       "      <th>price</th>\n",
       "      <th>discount_pct</th>\n",
       "      <th>coupon_duration</th>\n",
       "      <th>featured</th>\n",
       "      <th>limited_supply</th>\n",
       "    </tr>\n",
       "  </thead>\n",
       "  <tbody>\n",
       "    <tr>\n",
       "      <th>0</th>\n",
       "      <td>4</td>\n",
       "      <td>99</td>\n",
       "      <td>51</td>\n",
       "      <td>185</td>\n",
       "      <td>1</td>\n",
       "      <td>1</td>\n",
       "    </tr>\n",
       "    <tr>\n",
       "      <th>1</th>\n",
       "      <td>2</td>\n",
       "      <td>95</td>\n",
       "      <td>41</td>\n",
       "      <td>9</td>\n",
       "      <td>0</td>\n",
       "      <td>1</td>\n",
       "    </tr>\n",
       "    <tr>\n",
       "      <th>2</th>\n",
       "      <td>3</td>\n",
       "      <td>25</td>\n",
       "      <td>50</td>\n",
       "      <td>38</td>\n",
       "      <td>0</td>\n",
       "      <td>1</td>\n",
       "    </tr>\n",
       "    <tr>\n",
       "      <th>3</th>\n",
       "      <td>3</td>\n",
       "      <td>50</td>\n",
       "      <td>50</td>\n",
       "      <td>369</td>\n",
       "      <td>0</td>\n",
       "      <td>1</td>\n",
       "    </tr>\n",
       "    <tr>\n",
       "      <th>4</th>\n",
       "      <td>4</td>\n",
       "      <td>25</td>\n",
       "      <td>52</td>\n",
       "      <td>185</td>\n",
       "      <td>0</td>\n",
       "      <td>1</td>\n",
       "    </tr>\n",
       "  </tbody>\n",
       "</table>\n",
       "</div>"
      ],
      "text/plain": [
       "   prom_length  price  discount_pct  coupon_duration  featured  limited_supply\n",
       "0            4     99            51              185         1               1\n",
       "1            2     95            41                9         0               1\n",
       "2            3     25            50               38         0               1\n",
       "3            3     50            50              369         0               1\n",
       "4            4     25            52              185         0               1"
      ]
     },
     "execution_count": 3,
     "metadata": {},
     "output_type": "execute_result"
    }
   ],
   "source": [
    "# choose features for propensity score calculation\n",
    "X = df[['prom_length', 'price', 'discount_pct', 'coupon_duration', 'featured', 'limited_supply']]\n",
    "## hence @3. Matching Procedure, exclude=['min_req', 'start_date', 'fb_likes', 'quantity_sold', 'revenue']\n",
    "y = df['treatment']\n",
    "\n",
    "X.head()"
   ]
  },
  {
   "cell_type": "markdown",
   "id": "291f6497",
   "metadata": {},
   "source": [
    "## 3. Model for the Logistic Regression"
   ]
  },
  {
   "cell_type": "code",
   "execution_count": 4,
   "id": "8da47408",
   "metadata": {},
   "outputs": [
    {
     "data": {
      "text/plain": [
       "LogisticRegression()"
      ]
     },
     "execution_count": 4,
     "metadata": {},
     "output_type": "execute_result"
    }
   ],
   "source": [
    "lr = LogisticRegression()\n",
    "lr.fit(X, y)"
   ]
  },
  {
   "cell_type": "code",
   "execution_count": 5,
   "id": "e6c95bf6",
   "metadata": {},
   "outputs": [
    {
     "data": {
      "text/html": [
       "<div>\n",
       "<style scoped>\n",
       "    .dataframe tbody tr th:only-of-type {\n",
       "        vertical-align: middle;\n",
       "    }\n",
       "\n",
       "    .dataframe tbody tr th {\n",
       "        vertical-align: top;\n",
       "    }\n",
       "\n",
       "    .dataframe thead th {\n",
       "        text-align: right;\n",
       "    }\n",
       "</style>\n",
       "<table border=\"1\" class=\"dataframe\">\n",
       "  <thead>\n",
       "    <tr style=\"text-align: right;\">\n",
       "      <th></th>\n",
       "      <th>column</th>\n",
       "      <th>coeff</th>\n",
       "      <th>p_value</th>\n",
       "    </tr>\n",
       "  </thead>\n",
       "  <tbody>\n",
       "    <tr>\n",
       "      <th>prom_length</th>\n",
       "      <td>prom_length</td>\n",
       "      <td>-0.3284</td>\n",
       "      <td>0.000010</td>\n",
       "    </tr>\n",
       "    <tr>\n",
       "      <th>price</th>\n",
       "      <td>price</td>\n",
       "      <td>-0.0086</td>\n",
       "      <td>0.008066</td>\n",
       "    </tr>\n",
       "    <tr>\n",
       "      <th>discount_pct</th>\n",
       "      <td>discount_pct</td>\n",
       "      <td>-0.0079</td>\n",
       "      <td>0.527169</td>\n",
       "    </tr>\n",
       "    <tr>\n",
       "      <th>coupon_duration</th>\n",
       "      <td>coupon_duration</td>\n",
       "      <td>0.0035</td>\n",
       "      <td>0.000018</td>\n",
       "    </tr>\n",
       "    <tr>\n",
       "      <th>featured</th>\n",
       "      <td>featured</td>\n",
       "      <td>0.3080</td>\n",
       "      <td>0.209979</td>\n",
       "    </tr>\n",
       "    <tr>\n",
       "      <th>limited_supply</th>\n",
       "      <td>limited_supply</td>\n",
       "      <td>-0.3665</td>\n",
       "      <td>0.040335</td>\n",
       "    </tr>\n",
       "  </tbody>\n",
       "</table>\n",
       "</div>"
      ],
      "text/plain": [
       "                          column   coeff   p_value\n",
       "prom_length          prom_length -0.3284  0.000010\n",
       "price                      price -0.0086  0.008066\n",
       "discount_pct        discount_pct -0.0079  0.527169\n",
       "coupon_duration  coupon_duration  0.0035  0.000018\n",
       "featured                featured  0.3080  0.209979\n",
       "limited_supply    limited_supply -0.3665  0.040335"
      ]
     },
     "execution_count": 5,
     "metadata": {},
     "output_type": "execute_result"
    }
   ],
   "source": [
    "# get the coefficients\n",
    "coeffs=pd.DataFrame({\n",
    "    'column':X.columns.to_numpy(),\n",
    "    'coeff':lr.coef_.ravel().round(4),\n",
    "    'p_value': sm.OLS(y, sm.add_constant(X)).fit().pvalues.drop(['const'])\n",
    "})\n",
    "coeffs"
   ]
  },
  {
   "cell_type": "code",
   "execution_count": 6,
   "id": "eb737ceb",
   "metadata": {
    "scrolled": true
   },
   "outputs": [
    {
     "name": "stdout",
     "output_type": "stream",
     "text": [
      "the binary prediction is: 1\n",
      "the corresponding probabilities are: [0.3963 0.6037]\n"
     ]
    }
   ],
   "source": [
    "# prediction\n",
    "pred_binary=lr.predict(X)\n",
    "pred_prob=lr.predict_proba(X)\n",
    "\n",
    "id=17\n",
    "print('the binary prediction is:', pred_binary[17])\n",
    "print('the corresponding probabilities are:', pred_prob[17].round(4))"
   ]
  }
 ],
 "metadata": {
  "kernelspec": {
   "display_name": "Python 3 (ipykernel)",
   "language": "python",
   "name": "python3"
  },
  "language_info": {
   "codemirror_mode": {
    "name": "ipython",
    "version": 3
   },
   "file_extension": ".py",
   "mimetype": "text/x-python",
   "name": "python",
   "nbconvert_exporter": "python",
   "pygments_lexer": "ipython3",
   "version": "3.9.12"
  },
  "papermill": {
   "default_parameters": {},
   "duration": 30.308695,
   "end_time": "2022-05-26T20:28:10.685242",
   "environment_variables": {},
   "exception": null,
   "input_path": "__notebook__.ipynb",
   "output_path": "__notebook__.ipynb",
   "parameters": {},
   "start_time": "2022-05-26T20:27:40.376547",
   "version": "2.3.4"
  }
 },
 "nbformat": 4,
 "nbformat_minor": 5
}
