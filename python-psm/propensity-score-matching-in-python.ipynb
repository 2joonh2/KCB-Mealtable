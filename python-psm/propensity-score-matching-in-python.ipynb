{
 "cells": [
  {
   "cell_type": "markdown",
   "id": "342e85af",
   "metadata": {
    "papermill": {
     "duration": 0.009969,
     "end_time": "2022-05-26T20:27:50.526407",
     "exception": false,
     "start_time": "2022-05-26T20:27:50.516438",
     "status": "completed"
    },
    "tags": []
   },
   "source": [
    "## [Quasi-experimental Methods](https://www.kaggle.com/datasets/harrywang/propensity-score-matching/)"
   ]
  },
  {
   "cell_type": "code",
   "execution_count": 1,
   "id": "fd612a29",
   "metadata": {
    "execution": {
     "iopub.execute_input": "2022-05-26T20:27:50.544837Z",
     "iopub.status.busy": "2022-05-26T20:27:50.544360Z",
     "iopub.status.idle": "2022-05-26T20:27:51.780553Z",
     "shell.execute_reply": "2022-05-26T20:27:51.779149Z"
    },
    "papermill": {
     "duration": 1.248525,
     "end_time": "2022-05-26T20:27:51.783458",
     "exception": false,
     "start_time": "2022-05-26T20:27:50.534933",
     "status": "completed"
    },
    "tags": []
   },
   "outputs": [],
   "source": [
    "# load packages\n",
    "import numpy as np\n",
    "import pandas as pd\n",
    "import matplotlib.pyplot as plt\n",
    "import seaborn as sns\n",
    "import math\n",
    "sns.set()  # set the style"
   ]
  },
  {
   "cell_type": "code",
   "execution_count": 2,
   "id": "850e2eee",
   "metadata": {
    "execution": {
     "iopub.execute_input": "2022-05-26T20:27:51.802070Z",
     "iopub.status.busy": "2022-05-26T20:27:51.801026Z",
     "iopub.status.idle": "2022-05-26T20:27:51.847554Z",
     "shell.execute_reply": "2022-05-26T20:27:51.846094Z"
    },
    "papermill": {
     "duration": 0.05883,
     "end_time": "2022-05-26T20:27:51.850313",
     "exception": false,
     "start_time": "2022-05-26T20:27:51.791483",
     "status": "completed"
    },
    "tags": []
   },
   "outputs": [],
   "source": [
    "# read data\n",
    "df = pd.read_csv('./data/groupon.csv')\n",
    "# df.info()"
   ]
  },
  {
   "cell_type": "code",
   "execution_count": 3,
   "id": "41c561b3",
   "metadata": {
    "execution": {
     "iopub.execute_input": "2022-05-26T20:27:51.869540Z",
     "iopub.status.busy": "2022-05-26T20:27:51.868371Z",
     "iopub.status.idle": "2022-05-26T20:27:51.888669Z",
     "shell.execute_reply": "2022-05-26T20:27:51.887833Z"
    },
    "papermill": {
     "duration": 0.031624,
     "end_time": "2022-05-26T20:27:51.890577",
     "exception": false,
     "start_time": "2022-05-26T20:27:51.858953",
     "status": "completed"
    },
    "scrolled": true,
    "tags": []
   },
   "outputs": [
    {
     "data": {
      "text/html": [
       "<div>\n",
       "<style scoped>\n",
       "    .dataframe tbody tr th:only-of-type {\n",
       "        vertical-align: middle;\n",
       "    }\n",
       "\n",
       "    .dataframe tbody tr th {\n",
       "        vertical-align: top;\n",
       "    }\n",
       "\n",
       "    .dataframe thead th {\n",
       "        text-align: right;\n",
       "    }\n",
       "</style>\n",
       "<table border=\"1\" class=\"dataframe\">\n",
       "  <thead>\n",
       "    <tr style=\"text-align: right;\">\n",
       "      <th></th>\n",
       "      <th>deal_id</th>\n",
       "      <th>start_date</th>\n",
       "      <th>min_req</th>\n",
       "      <th>treatment</th>\n",
       "      <th>prom_length</th>\n",
       "      <th>price</th>\n",
       "      <th>discount_pct</th>\n",
       "      <th>coupon_duration</th>\n",
       "      <th>featured</th>\n",
       "      <th>limited_supply</th>\n",
       "      <th>fb_likes</th>\n",
       "      <th>quantity_sold</th>\n",
       "      <th>revenue</th>\n",
       "    </tr>\n",
       "  </thead>\n",
       "  <tbody>\n",
       "    <tr>\n",
       "      <th>0</th>\n",
       "      <td>heli-flights</td>\n",
       "      <td>9/23/2011</td>\n",
       "      <td>10</td>\n",
       "      <td>1</td>\n",
       "      <td>4</td>\n",
       "      <td>99</td>\n",
       "      <td>51</td>\n",
       "      <td>185</td>\n",
       "      <td>1</td>\n",
       "      <td>1</td>\n",
       "      <td>290</td>\n",
       "      <td>540</td>\n",
       "      <td>53460</td>\n",
       "    </tr>\n",
       "    <tr>\n",
       "      <th>1</th>\n",
       "      <td>gl-champion-series-tennis-electric-factory</td>\n",
       "      <td>9/23/2011</td>\n",
       "      <td>20</td>\n",
       "      <td>1</td>\n",
       "      <td>2</td>\n",
       "      <td>95</td>\n",
       "      <td>41</td>\n",
       "      <td>9</td>\n",
       "      <td>0</td>\n",
       "      <td>1</td>\n",
       "      <td>43</td>\n",
       "      <td>190</td>\n",
       "      <td>18050</td>\n",
       "    </tr>\n",
       "    <tr>\n",
       "      <th>2</th>\n",
       "      <td>realm-of-terror-horror-experience</td>\n",
       "      <td>9/23/2011</td>\n",
       "      <td>50</td>\n",
       "      <td>1</td>\n",
       "      <td>3</td>\n",
       "      <td>25</td>\n",
       "      <td>50</td>\n",
       "      <td>38</td>\n",
       "      <td>0</td>\n",
       "      <td>1</td>\n",
       "      <td>208</td>\n",
       "      <td>380</td>\n",
       "      <td>9500</td>\n",
       "    </tr>\n",
       "    <tr>\n",
       "      <th>3</th>\n",
       "      <td>newport-gourmet</td>\n",
       "      <td>9/23/2011</td>\n",
       "      <td>15</td>\n",
       "      <td>1</td>\n",
       "      <td>3</td>\n",
       "      <td>50</td>\n",
       "      <td>50</td>\n",
       "      <td>369</td>\n",
       "      <td>0</td>\n",
       "      <td>1</td>\n",
       "      <td>16</td>\n",
       "      <td>90</td>\n",
       "      <td>4500</td>\n",
       "    </tr>\n",
       "    <tr>\n",
       "      <th>4</th>\n",
       "      <td>the-clayroom</td>\n",
       "      <td>9/23/2011</td>\n",
       "      <td>20</td>\n",
       "      <td>1</td>\n",
       "      <td>4</td>\n",
       "      <td>25</td>\n",
       "      <td>52</td>\n",
       "      <td>185</td>\n",
       "      <td>0</td>\n",
       "      <td>1</td>\n",
       "      <td>85</td>\n",
       "      <td>580</td>\n",
       "      <td>14500</td>\n",
       "    </tr>\n",
       "  </tbody>\n",
       "</table>\n",
       "</div>"
      ],
      "text/plain": [
       "                                      deal_id start_date  min_req  treatment  \\\n",
       "0                                heli-flights  9/23/2011       10          1   \n",
       "1  gl-champion-series-tennis-electric-factory  9/23/2011       20          1   \n",
       "2           realm-of-terror-horror-experience  9/23/2011       50          1   \n",
       "3                             newport-gourmet  9/23/2011       15          1   \n",
       "4                                the-clayroom  9/23/2011       20          1   \n",
       "\n",
       "   prom_length  price  discount_pct  coupon_duration  featured  \\\n",
       "0            4     99            51              185         1   \n",
       "1            2     95            41                9         0   \n",
       "2            3     25            50               38         0   \n",
       "3            3     50            50              369         0   \n",
       "4            4     25            52              185         0   \n",
       "\n",
       "   limited_supply  fb_likes  quantity_sold  revenue  \n",
       "0               1       290            540    53460  \n",
       "1               1        43            190    18050  \n",
       "2               1       208            380     9500  \n",
       "3               1        16             90     4500  \n",
       "4               1        85            580    14500  "
      ]
     },
     "execution_count": 3,
     "metadata": {},
     "output_type": "execute_result"
    }
   ],
   "source": [
    "df.head()"
   ]
  },
  {
   "cell_type": "code",
   "execution_count": 4,
   "id": "2153efe3",
   "metadata": {
    "execution": {
     "iopub.execute_input": "2022-05-26T20:27:51.909198Z",
     "iopub.status.busy": "2022-05-26T20:27:51.908392Z",
     "iopub.status.idle": "2022-05-26T20:27:51.929169Z",
     "shell.execute_reply": "2022-05-26T20:27:51.927984Z"
    },
    "papermill": {
     "duration": 0.033182,
     "end_time": "2022-05-26T20:27:51.931859",
     "exception": false,
     "start_time": "2022-05-26T20:27:51.898677",
     "status": "completed"
    },
    "tags": []
   },
   "outputs": [
    {
     "data": {
      "text/html": [
       "<div>\n",
       "<style scoped>\n",
       "    .dataframe tbody tr th:only-of-type {\n",
       "        vertical-align: middle;\n",
       "    }\n",
       "\n",
       "    .dataframe tbody tr th {\n",
       "        vertical-align: top;\n",
       "    }\n",
       "\n",
       "    .dataframe thead th {\n",
       "        text-align: right;\n",
       "    }\n",
       "</style>\n",
       "<table border=\"1\" class=\"dataframe\">\n",
       "  <thead>\n",
       "    <tr style=\"text-align: right;\">\n",
       "      <th></th>\n",
       "      <th>min_req</th>\n",
       "      <th>prom_length</th>\n",
       "      <th>price</th>\n",
       "      <th>discount_pct</th>\n",
       "      <th>coupon_duration</th>\n",
       "      <th>featured</th>\n",
       "      <th>limited_supply</th>\n",
       "      <th>fb_likes</th>\n",
       "      <th>quantity_sold</th>\n",
       "      <th>revenue</th>\n",
       "    </tr>\n",
       "    <tr>\n",
       "      <th>treatment</th>\n",
       "      <th></th>\n",
       "      <th></th>\n",
       "      <th></th>\n",
       "      <th></th>\n",
       "      <th></th>\n",
       "      <th></th>\n",
       "      <th></th>\n",
       "      <th></th>\n",
       "      <th></th>\n",
       "      <th></th>\n",
       "    </tr>\n",
       "  </thead>\n",
       "  <tbody>\n",
       "    <tr>\n",
       "      <th>0</th>\n",
       "      <td>1.00000</td>\n",
       "      <td>3.809717</td>\n",
       "      <td>37.870445</td>\n",
       "      <td>52.973684</td>\n",
       "      <td>95.941296</td>\n",
       "      <td>0.105263</td>\n",
       "      <td>0.852227</td>\n",
       "      <td>77.941296</td>\n",
       "      <td>333.002024</td>\n",
       "      <td>9720.987854</td>\n",
       "    </tr>\n",
       "    <tr>\n",
       "      <th>1</th>\n",
       "      <td>26.50463</td>\n",
       "      <td>3.379630</td>\n",
       "      <td>29.421296</td>\n",
       "      <td>53.263889</td>\n",
       "      <td>131.842593</td>\n",
       "      <td>0.143519</td>\n",
       "      <td>0.777778</td>\n",
       "      <td>113.203704</td>\n",
       "      <td>509.351852</td>\n",
       "      <td>12750.694444</td>\n",
       "    </tr>\n",
       "  </tbody>\n",
       "</table>\n",
       "</div>"
      ],
      "text/plain": [
       "            min_req  prom_length      price  discount_pct  coupon_duration  \\\n",
       "treatment                                                                    \n",
       "0           1.00000     3.809717  37.870445     52.973684        95.941296   \n",
       "1          26.50463     3.379630  29.421296     53.263889       131.842593   \n",
       "\n",
       "           featured  limited_supply    fb_likes  quantity_sold       revenue  \n",
       "treatment                                                                     \n",
       "0          0.105263        0.852227   77.941296     333.002024   9720.987854  \n",
       "1          0.143519        0.777778  113.203704     509.351852  12750.694444  "
      ]
     },
     "execution_count": 4,
     "metadata": {},
     "output_type": "execute_result"
    }
   ],
   "source": [
    "# check the means for control and treatment\n",
    "df.groupby('treatment').mean()"
   ]
  },
  {
   "cell_type": "code",
   "execution_count": 5,
   "id": "a0d28cb6",
   "metadata": {
    "execution": {
     "iopub.execute_input": "2022-05-26T20:27:51.951811Z",
     "iopub.status.busy": "2022-05-26T20:27:51.950440Z",
     "iopub.status.idle": "2022-05-26T20:27:51.958753Z",
     "shell.execute_reply": "2022-05-26T20:27:51.957415Z"
    },
    "papermill": {
     "duration": 0.021011,
     "end_time": "2022-05-26T20:27:51.961358",
     "exception": false,
     "start_time": "2022-05-26T20:27:51.940347",
     "status": "completed"
    },
    "tags": []
   },
   "outputs": [],
   "source": [
    "# separate control and treatment for t-test\n",
    "df_control = df[df.treatment==0]\n",
    "df_treatment = df[df.treatment==1]"
   ]
  },
  {
   "cell_type": "code",
   "execution_count": 6,
   "id": "32507851",
   "metadata": {
    "execution": {
     "iopub.execute_input": "2022-05-26T20:27:51.982717Z",
     "iopub.status.busy": "2022-05-26T20:27:51.982237Z",
     "iopub.status.idle": "2022-05-26T20:27:51.992726Z",
     "shell.execute_reply": "2022-05-26T20:27:51.991928Z"
    },
    "papermill": {
     "duration": 0.026353,
     "end_time": "2022-05-26T20:27:51.996640",
     "exception": false,
     "start_time": "2022-05-26T20:27:51.970287",
     "status": "completed"
    },
    "tags": []
   },
   "outputs": [
    {
     "name": "stdout",
     "output_type": "stream",
     "text": [
      "9720.987854251012  |  12750.694444444445\n",
      "p=0.040\n",
      "different distributions/different group mean (reject H0)\n"
     ]
    }
   ],
   "source": [
    "# student's t-test for revenue (dependent variable)\n",
    "from scipy.stats import ttest_ind\n",
    "\n",
    "print(df_control.revenue.mean(), \" | \", df_treatment.revenue.mean())\n",
    "\n",
    "# compare samples\n",
    "_, p = ttest_ind(df_control.revenue, df_treatment.revenue)\n",
    "print(f'p={p:.3f}')\n",
    "\n",
    "# interpret\n",
    "alpha = 0.05  # significance level\n",
    "if p > alpha:\n",
    "    print('same distributions/same group mean (fail to reject H0 - we do not have enough evidence to reject H0)')\n",
    "else:\n",
    "    print('different distributions/different group mean (reject H0)')"
   ]
  },
  {
   "cell_type": "code",
   "execution_count": 7,
   "id": "304d3cd4",
   "metadata": {
    "execution": {
     "iopub.execute_input": "2022-05-26T20:27:52.018125Z",
     "iopub.status.busy": "2022-05-26T20:27:52.017464Z",
     "iopub.status.idle": "2022-05-26T20:27:52.025142Z",
     "shell.execute_reply": "2022-05-26T20:27:52.024165Z"
    },
    "papermill": {
     "duration": 0.02239,
     "end_time": "2022-05-26T20:27:52.028962",
     "exception": false,
     "start_time": "2022-05-26T20:27:52.006572",
     "status": "completed"
    },
    "tags": []
   },
   "outputs": [
    {
     "name": "stdout",
     "output_type": "stream",
     "text": [
      "77.9412955465587  |  113.20370370370371\n",
      "p=0.004\n",
      "different distributions/different group mean (reject H0)\n"
     ]
    }
   ],
   "source": [
    "# student's t-test for facebook likes (dependent variable)\n",
    "from scipy.stats import ttest_ind\n",
    "\n",
    "print(df_control.fb_likes.mean(), \" | \", df_treatment.fb_likes.mean())\n",
    "\n",
    "# compare samples\n",
    "_, p = ttest_ind(df_control.fb_likes, df_treatment.fb_likes)\n",
    "print(f'p={p:.3f}')\n",
    "\n",
    "# interpret\n",
    "alpha = 0.05  # significance level\n",
    "if p > alpha:\n",
    "    print('same distributions/same group mean (fail to reject H0 - we do not have enough evidence to reject H0)')\n",
    "else:\n",
    "    print('different distributions/different group mean (reject H0)')"
   ]
  },
  {
   "cell_type": "code",
   "execution_count": 8,
   "id": "2866e97d",
   "metadata": {
    "execution": {
     "iopub.execute_input": "2022-05-26T20:27:52.049150Z",
     "iopub.status.busy": "2022-05-26T20:27:52.048133Z",
     "iopub.status.idle": "2022-05-26T20:27:52.061828Z",
     "shell.execute_reply": "2022-05-26T20:27:52.060796Z"
    },
    "papermill": {
     "duration": 0.025851,
     "end_time": "2022-05-26T20:27:52.063902",
     "exception": false,
     "start_time": "2022-05-26T20:27:52.038051",
     "status": "completed"
    },
    "tags": []
   },
   "outputs": [
    {
     "data": {
      "text/html": [
       "<div>\n",
       "<style scoped>\n",
       "    .dataframe tbody tr th:only-of-type {\n",
       "        vertical-align: middle;\n",
       "    }\n",
       "\n",
       "    .dataframe tbody tr th {\n",
       "        vertical-align: top;\n",
       "    }\n",
       "\n",
       "    .dataframe thead th {\n",
       "        text-align: right;\n",
       "    }\n",
       "</style>\n",
       "<table border=\"1\" class=\"dataframe\">\n",
       "  <thead>\n",
       "    <tr style=\"text-align: right;\">\n",
       "      <th></th>\n",
       "      <th>prom_length</th>\n",
       "      <th>price</th>\n",
       "      <th>discount_pct</th>\n",
       "      <th>coupon_duration</th>\n",
       "      <th>featured</th>\n",
       "      <th>limited_supply</th>\n",
       "    </tr>\n",
       "  </thead>\n",
       "  <tbody>\n",
       "    <tr>\n",
       "      <th>0</th>\n",
       "      <td>4</td>\n",
       "      <td>99</td>\n",
       "      <td>51</td>\n",
       "      <td>185</td>\n",
       "      <td>1</td>\n",
       "      <td>1</td>\n",
       "    </tr>\n",
       "    <tr>\n",
       "      <th>1</th>\n",
       "      <td>2</td>\n",
       "      <td>95</td>\n",
       "      <td>41</td>\n",
       "      <td>9</td>\n",
       "      <td>0</td>\n",
       "      <td>1</td>\n",
       "    </tr>\n",
       "    <tr>\n",
       "      <th>2</th>\n",
       "      <td>3</td>\n",
       "      <td>25</td>\n",
       "      <td>50</td>\n",
       "      <td>38</td>\n",
       "      <td>0</td>\n",
       "      <td>1</td>\n",
       "    </tr>\n",
       "    <tr>\n",
       "      <th>3</th>\n",
       "      <td>3</td>\n",
       "      <td>50</td>\n",
       "      <td>50</td>\n",
       "      <td>369</td>\n",
       "      <td>0</td>\n",
       "      <td>1</td>\n",
       "    </tr>\n",
       "    <tr>\n",
       "      <th>4</th>\n",
       "      <td>4</td>\n",
       "      <td>25</td>\n",
       "      <td>52</td>\n",
       "      <td>185</td>\n",
       "      <td>0</td>\n",
       "      <td>1</td>\n",
       "    </tr>\n",
       "  </tbody>\n",
       "</table>\n",
       "</div>"
      ],
      "text/plain": [
       "   prom_length  price  discount_pct  coupon_duration  featured  limited_supply\n",
       "0            4     99            51              185         1               1\n",
       "1            2     95            41                9         0               1\n",
       "2            3     25            50               38         0               1\n",
       "3            3     50            50              369         0               1\n",
       "4            4     25            52              185         0               1"
      ]
     },
     "execution_count": 8,
     "metadata": {},
     "output_type": "execute_result"
    }
   ],
   "source": [
    "# choose features for propensity score calculation\n",
    "X = df[['prom_length', 'price', 'discount_pct', 'coupon_duration', 'featured', 'limited_supply']]\n",
    "y = df['treatment']\n",
    "\n",
    "X.head()"
   ]
  },
  {
   "cell_type": "code",
   "execution_count": 9,
   "id": "5d3814b7",
   "metadata": {
    "execution": {
     "iopub.execute_input": "2022-05-26T20:27:52.083575Z",
     "iopub.status.busy": "2022-05-26T20:27:52.082547Z",
     "iopub.status.idle": "2022-05-26T20:27:52.432444Z",
     "shell.execute_reply": "2022-05-26T20:27:52.431265Z"
    },
    "papermill": {
     "duration": 0.362286,
     "end_time": "2022-05-26T20:27:52.434656",
     "exception": false,
     "start_time": "2022-05-26T20:27:52.072370",
     "status": "completed"
    },
    "tags": []
   },
   "outputs": [
    {
     "data": {
      "text/plain": [
       "LogisticRegression()"
      ]
     },
     "execution_count": 9,
     "metadata": {},
     "output_type": "execute_result"
    }
   ],
   "source": [
    "# use logistic regression to calculate the propensity scores\n",
    "from sklearn.linear_model import LogisticRegression\n",
    "lr = LogisticRegression()\n",
    "lr.fit(X, y)"
   ]
  },
  {
   "cell_type": "code",
   "execution_count": 10,
   "id": "bbc8382f",
   "metadata": {
    "execution": {
     "iopub.execute_input": "2022-05-26T20:27:52.454511Z",
     "iopub.status.busy": "2022-05-26T20:27:52.454016Z",
     "iopub.status.idle": "2022-05-26T20:27:52.461003Z",
     "shell.execute_reply": "2022-05-26T20:27:52.460134Z"
    },
    "papermill": {
     "duration": 0.019184,
     "end_time": "2022-05-26T20:27:52.462689",
     "exception": false,
     "start_time": "2022-05-26T20:27:52.443505",
     "status": "completed"
    },
    "tags": []
   },
   "outputs": [
    {
     "data": {
      "text/plain": [
       "array([-0.32837138, -0.00859711, -0.00794036,  0.00352025,  0.30799509,\n",
       "       -0.36649807])"
      ]
     },
     "execution_count": 10,
     "metadata": {},
     "output_type": "execute_result"
    }
   ],
   "source": [
    "# get the coefficients \n",
    "lr.coef_.ravel()  # or reshape(-1) refers to an unknown dimension, often used to flatten the array"
   ]
  },
  {
   "cell_type": "code",
   "execution_count": 11,
   "id": "4de3485e",
   "metadata": {
    "execution": {
     "iopub.execute_input": "2022-05-26T20:27:52.482609Z",
     "iopub.status.busy": "2022-05-26T20:27:52.481947Z",
     "iopub.status.idle": "2022-05-26T20:27:52.487460Z",
     "shell.execute_reply": "2022-05-26T20:27:52.486771Z"
    },
    "papermill": {
     "duration": 0.017564,
     "end_time": "2022-05-26T20:27:52.489179",
     "exception": false,
     "start_time": "2022-05-26T20:27:52.471615",
     "status": "completed"
    },
    "tags": []
   },
   "outputs": [
    {
     "data": {
      "text/plain": [
       "array(['prom_length', 'price', 'discount_pct', 'coupon_duration',\n",
       "       'featured', 'limited_supply'], dtype=object)"
      ]
     },
     "execution_count": 11,
     "metadata": {},
     "output_type": "execute_result"
    }
   ],
   "source": [
    "# get the feature names\n",
    "X.columns.to_numpy()"
   ]
  },
  {
   "cell_type": "code",
   "execution_count": 12,
   "id": "9619c31a",
   "metadata": {
    "execution": {
     "iopub.execute_input": "2022-05-26T20:27:52.509017Z",
     "iopub.status.busy": "2022-05-26T20:27:52.508312Z",
     "iopub.status.idle": "2022-05-26T20:27:52.520138Z",
     "shell.execute_reply": "2022-05-26T20:27:52.519166Z"
    },
    "papermill": {
     "duration": 0.024328,
     "end_time": "2022-05-26T20:27:52.522227",
     "exception": false,
     "start_time": "2022-05-26T20:27:52.497899",
     "status": "completed"
    },
    "tags": []
   },
   "outputs": [
    {
     "data": {
      "text/html": [
       "<div>\n",
       "<style scoped>\n",
       "    .dataframe tbody tr th:only-of-type {\n",
       "        vertical-align: middle;\n",
       "    }\n",
       "\n",
       "    .dataframe tbody tr th {\n",
       "        vertical-align: top;\n",
       "    }\n",
       "\n",
       "    .dataframe thead th {\n",
       "        text-align: right;\n",
       "    }\n",
       "</style>\n",
       "<table border=\"1\" class=\"dataframe\">\n",
       "  <thead>\n",
       "    <tr style=\"text-align: right;\">\n",
       "      <th></th>\n",
       "      <th>column</th>\n",
       "      <th>coeff</th>\n",
       "    </tr>\n",
       "  </thead>\n",
       "  <tbody>\n",
       "    <tr>\n",
       "      <th>0</th>\n",
       "      <td>prom_length</td>\n",
       "      <td>-0.328371</td>\n",
       "    </tr>\n",
       "    <tr>\n",
       "      <th>1</th>\n",
       "      <td>price</td>\n",
       "      <td>-0.008597</td>\n",
       "    </tr>\n",
       "    <tr>\n",
       "      <th>2</th>\n",
       "      <td>discount_pct</td>\n",
       "      <td>-0.007940</td>\n",
       "    </tr>\n",
       "    <tr>\n",
       "      <th>3</th>\n",
       "      <td>coupon_duration</td>\n",
       "      <td>0.003520</td>\n",
       "    </tr>\n",
       "    <tr>\n",
       "      <th>4</th>\n",
       "      <td>featured</td>\n",
       "      <td>0.307995</td>\n",
       "    </tr>\n",
       "    <tr>\n",
       "      <th>5</th>\n",
       "      <td>limited_supply</td>\n",
       "      <td>-0.366498</td>\n",
       "    </tr>\n",
       "  </tbody>\n",
       "</table>\n",
       "</div>"
      ],
      "text/plain": [
       "            column     coeff\n",
       "0      prom_length -0.328371\n",
       "1            price -0.008597\n",
       "2     discount_pct -0.007940\n",
       "3  coupon_duration  0.003520\n",
       "4         featured  0.307995\n",
       "5   limited_supply -0.366498"
      ]
     },
     "execution_count": 12,
     "metadata": {},
     "output_type": "execute_result"
    }
   ],
   "source": [
    "# combine features and coefficients into a dataframe\n",
    "coeffs = pd.DataFrame({\n",
    "    'column':X.columns.to_numpy(),\n",
    "    'coeff':lr.coef_.ravel(),\n",
    "})\n",
    "coeffs"
   ]
  },
  {
   "cell_type": "code",
   "execution_count": 13,
   "id": "d6a4e290",
   "metadata": {
    "execution": {
     "iopub.execute_input": "2022-05-26T20:27:52.541901Z",
     "iopub.status.busy": "2022-05-26T20:27:52.541410Z",
     "iopub.status.idle": "2022-05-26T20:27:52.552034Z",
     "shell.execute_reply": "2022-05-26T20:27:52.550455Z"
    },
    "papermill": {
     "duration": 0.023302,
     "end_time": "2022-05-26T20:27:52.554381",
     "exception": false,
     "start_time": "2022-05-26T20:27:52.531079",
     "status": "completed"
    },
    "tags": []
   },
   "outputs": [
    {
     "name": "stdout",
     "output_type": "stream",
     "text": [
      "the binary prediction is: 0\n",
      "the corresponding probabilities are: [0.74080749 0.25919251]\n"
     ]
    }
   ],
   "source": [
    "# prediction\n",
    "pred_binary = lr.predict(X)  # binary 0 control, 1, treatment\n",
    "pred_prob = lr.predict_proba(X)  # probabilities for classes\n",
    "\n",
    "print('the binary prediction is:', pred_binary[0])\n",
    "print('the corresponding probabilities are:', pred_prob[0])"
   ]
  },
  {
   "cell_type": "code",
   "execution_count": 14,
   "id": "647a4812",
   "metadata": {
    "execution": {
     "iopub.execute_input": "2022-05-26T20:27:52.575635Z",
     "iopub.status.busy": "2022-05-26T20:27:52.574986Z",
     "iopub.status.idle": "2022-05-26T20:27:52.596802Z",
     "shell.execute_reply": "2022-05-26T20:27:52.595864Z"
    },
    "papermill": {
     "duration": 0.035244,
     "end_time": "2022-05-26T20:27:52.598968",
     "exception": false,
     "start_time": "2022-05-26T20:27:52.563724",
     "status": "completed"
    },
    "tags": []
   },
   "outputs": [
    {
     "data": {
      "text/html": [
       "<div>\n",
       "<style scoped>\n",
       "    .dataframe tbody tr th:only-of-type {\n",
       "        vertical-align: middle;\n",
       "    }\n",
       "\n",
       "    .dataframe tbody tr th {\n",
       "        vertical-align: top;\n",
       "    }\n",
       "\n",
       "    .dataframe thead th {\n",
       "        text-align: right;\n",
       "    }\n",
       "</style>\n",
       "<table border=\"1\" class=\"dataframe\">\n",
       "  <thead>\n",
       "    <tr style=\"text-align: right;\">\n",
       "      <th></th>\n",
       "      <th>deal_id</th>\n",
       "      <th>start_date</th>\n",
       "      <th>min_req</th>\n",
       "      <th>treatment</th>\n",
       "      <th>prom_length</th>\n",
       "      <th>price</th>\n",
       "      <th>discount_pct</th>\n",
       "      <th>coupon_duration</th>\n",
       "      <th>featured</th>\n",
       "      <th>limited_supply</th>\n",
       "      <th>fb_likes</th>\n",
       "      <th>quantity_sold</th>\n",
       "      <th>revenue</th>\n",
       "      <th>ps</th>\n",
       "      <th>ps_logit</th>\n",
       "    </tr>\n",
       "  </thead>\n",
       "  <tbody>\n",
       "    <tr>\n",
       "      <th>0</th>\n",
       "      <td>heli-flights</td>\n",
       "      <td>9/23/2011</td>\n",
       "      <td>10</td>\n",
       "      <td>1</td>\n",
       "      <td>4</td>\n",
       "      <td>99</td>\n",
       "      <td>51</td>\n",
       "      <td>185</td>\n",
       "      <td>1</td>\n",
       "      <td>1</td>\n",
       "      <td>290</td>\n",
       "      <td>540</td>\n",
       "      <td>53460</td>\n",
       "      <td>0.259193</td>\n",
       "      <td>-1.050170</td>\n",
       "    </tr>\n",
       "    <tr>\n",
       "      <th>1</th>\n",
       "      <td>gl-champion-series-tennis-electric-factory</td>\n",
       "      <td>9/23/2011</td>\n",
       "      <td>20</td>\n",
       "      <td>1</td>\n",
       "      <td>2</td>\n",
       "      <td>95</td>\n",
       "      <td>41</td>\n",
       "      <td>9</td>\n",
       "      <td>0</td>\n",
       "      <td>1</td>\n",
       "      <td>43</td>\n",
       "      <td>190</td>\n",
       "      <td>18050</td>\n",
       "      <td>0.230198</td>\n",
       "      <td>-1.207194</td>\n",
       "    </tr>\n",
       "    <tr>\n",
       "      <th>2</th>\n",
       "      <td>realm-of-terror-horror-experience</td>\n",
       "      <td>9/23/2011</td>\n",
       "      <td>50</td>\n",
       "      <td>1</td>\n",
       "      <td>3</td>\n",
       "      <td>25</td>\n",
       "      <td>50</td>\n",
       "      <td>38</td>\n",
       "      <td>0</td>\n",
       "      <td>1</td>\n",
       "      <td>208</td>\n",
       "      <td>380</td>\n",
       "      <td>9500</td>\n",
       "      <td>0.288405</td>\n",
       "      <td>-0.903144</td>\n",
       "    </tr>\n",
       "    <tr>\n",
       "      <th>3</th>\n",
       "      <td>newport-gourmet</td>\n",
       "      <td>9/23/2011</td>\n",
       "      <td>15</td>\n",
       "      <td>1</td>\n",
       "      <td>3</td>\n",
       "      <td>50</td>\n",
       "      <td>50</td>\n",
       "      <td>369</td>\n",
       "      <td>0</td>\n",
       "      <td>1</td>\n",
       "      <td>16</td>\n",
       "      <td>90</td>\n",
       "      <td>4500</td>\n",
       "      <td>0.511781</td>\n",
       "      <td>0.047131</td>\n",
       "    </tr>\n",
       "    <tr>\n",
       "      <th>4</th>\n",
       "      <td>the-clayroom</td>\n",
       "      <td>9/23/2011</td>\n",
       "      <td>20</td>\n",
       "      <td>1</td>\n",
       "      <td>4</td>\n",
       "      <td>25</td>\n",
       "      <td>52</td>\n",
       "      <td>185</td>\n",
       "      <td>0</td>\n",
       "      <td>1</td>\n",
       "      <td>85</td>\n",
       "      <td>580</td>\n",
       "      <td>14500</td>\n",
       "      <td>0.325212</td>\n",
       "      <td>-0.729919</td>\n",
       "    </tr>\n",
       "  </tbody>\n",
       "</table>\n",
       "</div>"
      ],
      "text/plain": [
       "                                      deal_id start_date  min_req  treatment  \\\n",
       "0                                heli-flights  9/23/2011       10          1   \n",
       "1  gl-champion-series-tennis-electric-factory  9/23/2011       20          1   \n",
       "2           realm-of-terror-horror-experience  9/23/2011       50          1   \n",
       "3                             newport-gourmet  9/23/2011       15          1   \n",
       "4                                the-clayroom  9/23/2011       20          1   \n",
       "\n",
       "   prom_length  price  discount_pct  coupon_duration  featured  \\\n",
       "0            4     99            51              185         1   \n",
       "1            2     95            41                9         0   \n",
       "2            3     25            50               38         0   \n",
       "3            3     50            50              369         0   \n",
       "4            4     25            52              185         0   \n",
       "\n",
       "   limited_supply  fb_likes  quantity_sold  revenue        ps  ps_logit  \n",
       "0               1       290            540    53460  0.259193 -1.050170  \n",
       "1               1        43            190    18050  0.230198 -1.207194  \n",
       "2               1       208            380     9500  0.288405 -0.903144  \n",
       "3               1        16             90     4500  0.511781  0.047131  \n",
       "4               1        85            580    14500  0.325212 -0.729919  "
      ]
     },
     "execution_count": 14,
     "metadata": {},
     "output_type": "execute_result"
    }
   ],
   "source": [
    "# the propensity score (ps) is the probability of being 1 (i.e., in the treatment group)\n",
    "df['ps'] = pred_prob[:, 1]\n",
    "\n",
    "# calculate the logit of the propensity score for matching if needed\n",
    "# I just use the propensity score to match in this tutorial\n",
    "def logit(p):\n",
    "    logit_value = math.log(p / (1-p))\n",
    "    return logit_value\n",
    "\n",
    "df['ps_logit'] = df.ps.apply(lambda x: logit(x))\n",
    "\n",
    "df.head()\n"
   ]
  },
  {
   "cell_type": "code",
   "execution_count": 15,
   "id": "c07c1c03",
   "metadata": {
    "execution": {
     "iopub.execute_input": "2022-05-26T20:27:52.621453Z",
     "iopub.status.busy": "2022-05-26T20:27:52.620539Z",
     "iopub.status.idle": "2022-05-26T20:27:53.069763Z",
     "shell.execute_reply": "2022-05-26T20:27:53.068624Z"
    },
    "papermill": {
     "duration": 0.462868,
     "end_time": "2022-05-26T20:27:53.072367",
     "exception": false,
     "start_time": "2022-05-26T20:27:52.609499",
     "status": "completed"
    },
    "tags": []
   },
   "outputs": [
    {
     "data": {
      "text/plain": [
       "<AxesSubplot:xlabel='ps', ylabel='Count'>"
      ]
     },
     "execution_count": 15,
     "metadata": {},
     "output_type": "execute_result"
    },
    {
     "data": {
      "image/png": "[encoded data removed]",
      "text/plain": [
       "<Figure size 432x288 with 1 Axes>"
      ]
     },
     "metadata": {},
     "output_type": "display_data"
    }
   ],
   "source": [
    "# check the overlap of ps for control and treatment using histogram\n",
    "# if not much overlap, the matching won't work\n",
    "sns.histplot(data=df, x='ps', hue='treatment')  # multiple=\"dodge\" for "
   ]
  },
  {
   "cell_type": "code",
   "execution_count": 16,
   "id": "babd7e61",
   "metadata": {
    "execution": {
     "iopub.execute_input": "2022-05-26T20:27:53.095877Z",
     "iopub.status.busy": "2022-05-26T20:27:53.095440Z",
     "iopub.status.idle": "2022-05-26T20:27:53.415111Z",
     "shell.execute_reply": "2022-05-26T20:27:53.414041Z"
    },
    "papermill": {
     "duration": 0.334761,
     "end_time": "2022-05-26T20:27:53.417950",
     "exception": false,
     "start_time": "2022-05-26T20:27:53.083189",
     "status": "completed"
    },
    "tags": []
   },
   "outputs": [
    {
     "data": {
      "text/plain": [
       "<AxesSubplot:xlabel='ps1', ylabel='Count'>"
      ]
     },
     "execution_count": 16,
     "metadata": {},
     "output_type": "execute_result"
    },
    {
     "data": {
      "image/png": "[encoded data removed]",
      "text/plain": [
       "<Figure size 432x288 with 1 Axes>"
      ]
     },
     "metadata": {},
     "output_type": "display_data"
    }
   ],
   "source": [
    "# adding 'min_req' here makes matching not working - because treatment is derived from min_req\n",
    "# there is no overlap and thus matching will not work\n",
    "X1 = df[['min_req', 'prom_length', 'price', 'discount_pct', 'coupon_duration', 'featured','limited_supply']]\n",
    "y = df['treatment']\n",
    "\n",
    "# use logistic regression to calculate the propensity scores\n",
    "lr1 = LogisticRegression(max_iter=1000)\n",
    "lr1.fit(X1, y)\n",
    "\n",
    "pred_prob1 = lr1.predict_proba(X1)  # probabilities for classes\n",
    "df['ps1'] = pred_prob1[:, 1]\n",
    "\n",
    "sns.histplot(data=df, x='ps1', hue='treatment')"
   ]
  },
  {
   "cell_type": "code",
   "execution_count": 17,
   "id": "61e47e90",
   "metadata": {
    "execution": {
     "iopub.execute_input": "2022-05-26T20:27:53.440714Z",
     "iopub.status.busy": "2022-05-26T20:27:53.439695Z",
     "iopub.status.idle": "2022-05-26T20:27:53.969345Z",
     "shell.execute_reply": "2022-05-26T20:27:53.967824Z"
    },
    "papermill": {
     "duration": 0.544353,
     "end_time": "2022-05-26T20:27:53.972381",
     "exception": false,
     "start_time": "2022-05-26T20:27:53.428028",
     "status": "completed"
    },
    "tags": []
   },
   "outputs": [
    {
     "data": {
      "text/plain": [
       "<AxesSubplot:xlabel='start_date', ylabel='revenue'>"
      ]
     },
     "execution_count": 17,
     "metadata": {},
     "output_type": "execute_result"
    },
    {
     "data": {
      "image/png": "[encoded data removed]",
      "text/plain": [
       "<Figure size 1440x720 with 1 Axes>"
      ]
     },
     "metadata": {},
     "output_type": "display_data"
    }
   ],
   "source": [
    "# stating date can also determine treatment value for most cases\n",
    "# so we do not include it in the propensity score calculation\n",
    "df.start_date = pd.to_datetime(df.start_date)\n",
    "fig, ax = plt.subplots(figsize=(20, 10))\n",
    "sns.scatterplot(data=df, x='start_date', y='revenue', hue='treatment')"
   ]
  },
  {
   "cell_type": "code",
   "execution_count": 18,
   "id": "16d17e1c",
   "metadata": {
    "execution": {
     "iopub.execute_input": "2022-05-26T20:27:54.002327Z",
     "iopub.status.busy": "2022-05-26T20:27:54.001084Z",
     "iopub.status.idle": "2022-05-26T20:27:54.363791Z",
     "shell.execute_reply": "2022-05-26T20:27:54.362279Z"
    },
    "papermill": {
     "duration": 0.379791,
     "end_time": "2022-05-26T20:27:54.366188",
     "exception": false,
     "start_time": "2022-05-26T20:27:53.986397",
     "status": "completed"
    },
    "tags": []
   },
   "outputs": [
    {
     "data": {
      "text/plain": [
       "<AxesSubplot:xlabel='ps2', ylabel='Count'>"
      ]
     },
     "execution_count": 18,
     "metadata": {},
     "output_type": "execute_result"
    },
    {
     "data": {
      "image/png": "[encoded data removed]",
      "text/plain": [
       "<Figure size 432x288 with 1 Axes>"
      ]
     },
     "metadata": {},
     "output_type": "display_data"
    }
   ],
   "source": [
    "# adding 'starting_date' here via a `recency` feature\n",
    "# there is only little overlap resulting in not enough matched observations\n",
    "\n",
    "last_date = df.start_date.max()\n",
    "df['recency'] = (last_date - df.start_date).dt.days\n",
    "\n",
    "X2 = df[['recency', 'prom_length', 'price', 'discount_pct', 'coupon_duration', 'featured','limited_supply']]\n",
    "y = df['treatment']\n",
    "\n",
    "# use logistic regression to calculate the propensity scores\n",
    "lr2 = LogisticRegression(max_iter=1000)\n",
    "lr2.fit(X2, y)\n",
    "\n",
    "pred_prob2 = lr2.predict_proba(X2)  # probabilities for classes\n",
    "df['ps2'] = pred_prob2[:, 1]\n",
    "\n",
    "sns.histplot(data=df, x='ps2', hue='treatment')"
   ]
  },
  {
   "cell_type": "code",
   "execution_count": 19,
   "id": "cff9534f",
   "metadata": {
    "execution": {
     "iopub.execute_input": "2022-05-26T20:27:54.395210Z",
     "iopub.status.busy": "2022-05-26T20:27:54.394816Z",
     "iopub.status.idle": "2022-05-26T20:27:54.466071Z",
     "shell.execute_reply": "2022-05-26T20:27:54.464940Z"
    },
    "papermill": {
     "duration": 0.089026,
     "end_time": "2022-05-26T20:27:54.468301",
     "exception": false,
     "start_time": "2022-05-26T20:27:54.379275",
     "status": "completed"
    },
    "tags": []
   },
   "outputs": [
    {
     "name": "stdout",
     "output_type": "stream",
     "text": [
      "caliper (radius) is: 0.0304\n"
     ]
    },
    {
     "data": {
      "text/plain": [
       "NearestNeighbors(n_neighbors=10, radius=0.030379121844384023)"
      ]
     },
     "execution_count": 19,
     "metadata": {},
     "output_type": "execute_result"
    }
   ],
   "source": [
    "# use 25% of standard deviation of the propensity score as the caliper/radius\n",
    "# get the k closest neighbors for each observations\n",
    "# relax caliper and increase k can provide more matches\n",
    "\n",
    "from sklearn.neighbors import NearestNeighbors\n",
    "\n",
    "caliper = np.std(df.ps) * 0.25\n",
    "print(f'caliper (radius) is: {caliper:.4f}')\n",
    "\n",
    "n_neighbors = 10\n",
    "\n",
    "# setup knn\n",
    "knn = NearestNeighbors(n_neighbors=n_neighbors, radius=caliper)\n",
    "\n",
    "ps = df[['ps']]  # double brackets as a dataframe\n",
    "knn.fit(ps)"
   ]
  },
  {
   "cell_type": "code",
   "execution_count": 20,
   "id": "03463591",
   "metadata": {
    "execution": {
     "iopub.execute_input": "2022-05-26T20:27:54.495566Z",
     "iopub.status.busy": "2022-05-26T20:27:54.494641Z",
     "iopub.status.idle": "2022-05-26T20:27:54.505678Z",
     "shell.execute_reply": "2022-05-26T20:27:54.504828Z"
    },
    "papermill": {
     "duration": 0.028068,
     "end_time": "2022-05-26T20:27:54.509003",
     "exception": false,
     "start_time": "2022-05-26T20:27:54.480935",
     "status": "completed"
    },
    "tags": []
   },
   "outputs": [
    {
     "name": "stdout",
     "output_type": "stream",
     "text": [
      "(710, 10)\n",
      "[0.         0.00010812 0.00040682 0.00078204 0.00115819 0.00135204\n",
      " 0.00135204 0.00164942 0.0016694  0.00203859]\n",
      "[  0 348 388 415 624 494 150 463 372 345]\n"
     ]
    }
   ],
   "source": [
    "# distances and indexes\n",
    "distances, neighbor_indexes = knn.kneighbors(ps)\n",
    "\n",
    "print(neighbor_indexes.shape)\n",
    "\n",
    "# the 10 closest points to the first point\n",
    "print(distances[0])\n",
    "print(neighbor_indexes[0])"
   ]
  },
  {
   "cell_type": "code",
   "execution_count": 21,
   "id": "57218299",
   "metadata": {
    "execution": {
     "iopub.execute_input": "2022-05-26T20:27:54.540150Z",
     "iopub.status.busy": "2022-05-26T20:27:54.538465Z",
     "iopub.status.idle": "2022-05-26T20:27:54.878341Z",
     "shell.execute_reply": "2022-05-26T20:27:54.877136Z"
    },
    "papermill": {
     "duration": 0.357403,
     "end_time": "2022-05-26T20:27:54.881108",
     "exception": false,
     "start_time": "2022-05-26T20:27:54.523705",
     "status": "completed"
    },
    "tags": []
   },
   "outputs": [],
   "source": [
    "# for each point in treatment, we find a matching point in control without replacement\n",
    "# note the 10 neighbors may include both points in treatment and control\n",
    "\n",
    "matched_control = []  # keep track of the matched observations in control\n",
    "\n",
    "for current_index, row in df.iterrows():  # iterate over the dataframe\n",
    "    if row.treatment == 0:  # the current row is in the control group\n",
    "        df.loc[current_index, 'matched'] = np.nan  # set matched to nan\n",
    "    else: \n",
    "        for idx in neighbor_indexes[current_index, :]: # for each row in treatment, find the k neighbors\n",
    "            # make sure the current row is not the idx - don't match to itself\n",
    "            # and the neighbor is in the control \n",
    "            if (current_index != idx) and (df.loc[idx].treatment == 0):\n",
    "                if idx not in matched_control:  # this control has not been matched yet\n",
    "                    df.loc[current_index, 'matched'] = idx  # record the matching\n",
    "                    matched_control.append(idx)  # add the matched to the list\n",
    "                    break"
   ]
  },
  {
   "cell_type": "code",
   "execution_count": 22,
   "id": "ec734f7a",
   "metadata": {
    "execution": {
     "iopub.execute_input": "2022-05-26T20:27:54.909887Z",
     "iopub.status.busy": "2022-05-26T20:27:54.909368Z",
     "iopub.status.idle": "2022-05-26T20:27:54.918156Z",
     "shell.execute_reply": "2022-05-26T20:27:54.916975Z"
    },
    "papermill": {
     "duration": 0.026707,
     "end_time": "2022-05-26T20:27:54.920613",
     "exception": false,
     "start_time": "2022-05-26T20:27:54.893906",
     "status": "completed"
    },
    "tags": []
   },
   "outputs": [
    {
     "name": "stdout",
     "output_type": "stream",
     "text": [
      "total observations in treatment: 216\n",
      "total matched observations in control: 185\n"
     ]
    }
   ],
   "source": [
    "# try to increase the number of neighbors and/or caliper to get more matches\n",
    "print('total observations in treatment:', len(df[df.treatment==1]))\n",
    "print('total matched observations in control:', len(matched_control))"
   ]
  },
  {
   "cell_type": "code",
   "execution_count": 23,
   "id": "6c418b72",
   "metadata": {
    "execution": {
     "iopub.execute_input": "2022-05-26T20:27:54.950850Z",
     "iopub.status.busy": "2022-05-26T20:27:54.950241Z",
     "iopub.status.idle": "2022-05-26T20:27:54.967167Z",
     "shell.execute_reply": "2022-05-26T20:27:54.966038Z"
    },
    "papermill": {
     "duration": 0.035188,
     "end_time": "2022-05-26T20:27:54.969767",
     "exception": false,
     "start_time": "2022-05-26T20:27:54.934579",
     "status": "completed"
    },
    "tags": []
   },
   "outputs": [
    {
     "data": {
      "text/plain": [
       "1    185\n",
       "0    185\n",
       "Name: treatment, dtype: int64"
      ]
     },
     "execution_count": 23,
     "metadata": {},
     "output_type": "execute_result"
    }
   ],
   "source": [
    "# control have no match\n",
    "treatment_matched = df.dropna(subset=['matched'])  # drop not matched\n",
    "\n",
    "# matched control observation indexes\n",
    "control_matched_idx = treatment_matched.matched\n",
    "control_matched_idx = control_matched_idx.astype(int)  # change to int\n",
    "control_matched = df.loc[control_matched_idx, :]  # select matched control observations\n",
    "\n",
    "# combine the matched treatment and control\n",
    "df_matched = pd.concat([treatment_matched, control_matched])\n",
    "\n",
    "df_matched.treatment.value_counts()"
   ]
  },
  {
   "cell_type": "code",
   "execution_count": 24,
   "id": "38f7da8f",
   "metadata": {
    "execution": {
     "iopub.execute_input": "2022-05-26T20:27:54.998926Z",
     "iopub.status.busy": "2022-05-26T20:27:54.997956Z",
     "iopub.status.idle": "2022-05-26T20:27:55.007401Z",
     "shell.execute_reply": "2022-05-26T20:27:55.006249Z"
    },
    "papermill": {
     "duration": 0.026578,
     "end_time": "2022-05-26T20:27:55.009681",
     "exception": false,
     "start_time": "2022-05-26T20:27:54.983103",
     "status": "completed"
    },
    "tags": []
   },
   "outputs": [],
   "source": [
    "# matched control and treatment\n",
    "df_matched_control = df_matched[df_matched.treatment==0]\n",
    "df_matched_treatment = df_matched[df_matched.treatment==1]"
   ]
  },
  {
   "cell_type": "code",
   "execution_count": 25,
   "id": "09727061",
   "metadata": {
    "execution": {
     "iopub.execute_input": "2022-05-26T20:27:55.038887Z",
     "iopub.status.busy": "2022-05-26T20:27:55.038381Z",
     "iopub.status.idle": "2022-05-26T20:27:55.048535Z",
     "shell.execute_reply": "2022-05-26T20:27:55.047315Z"
    },
    "papermill": {
     "duration": 0.027474,
     "end_time": "2022-05-26T20:27:55.050820",
     "exception": false,
     "start_time": "2022-05-26T20:27:55.023346",
     "status": "completed"
    },
    "tags": []
   },
   "outputs": [
    {
     "name": "stdout",
     "output_type": "stream",
     "text": [
      "9146.783783783783 13275.405405405405\n",
      "p=0.051\n",
      "same distributions/same group mean (fail to reject H0 - we do not have enough evidence to reject H0)\n"
     ]
    }
   ],
   "source": [
    "# student's t-test for revenue (dependent variable) after matching\n",
    "# p value is not significant now\n",
    "from scipy.stats import ttest_ind\n",
    "print(df_matched_control.revenue.mean(), df_matched_treatment.revenue.mean())\n",
    "\n",
    "# compare samples\n",
    "_, p = ttest_ind(df_matched_control.revenue, df_matched_treatment.revenue)\n",
    "print(f'p={p:.3f}')\n",
    "\n",
    "# interpret\n",
    "alpha = 0.05  # significance level\n",
    "if p > alpha:\n",
    "    print('same distributions/same group mean (fail to reject H0 - we do not have enough evidence to reject H0)')\n",
    "else:\n",
    "    print('different distributions/different group mean (reject H0)')"
   ]
  },
  {
   "cell_type": "code",
   "execution_count": 26,
   "id": "0b5f5b6e",
   "metadata": {
    "execution": {
     "iopub.execute_input": "2022-05-26T20:27:55.076936Z",
     "iopub.status.busy": "2022-05-26T20:27:55.076185Z",
     "iopub.status.idle": "2022-05-26T20:27:55.086854Z",
     "shell.execute_reply": "2022-05-26T20:27:55.085168Z"
    },
    "papermill": {
     "duration": 0.026587,
     "end_time": "2022-05-26T20:27:55.089253",
     "exception": false,
     "start_time": "2022-05-26T20:27:55.062666",
     "status": "completed"
    },
    "tags": []
   },
   "outputs": [
    {
     "name": "stdout",
     "output_type": "stream",
     "text": [
      "68.0 115.75135135135135\n",
      "p=0.002\n",
      "different distributions/different group mean (reject H0)\n"
     ]
    }
   ],
   "source": [
    "# student's t-test for facebook likes(dependent variable) after matching\n",
    "# p value is smaller compared with before matching\n",
    "from scipy.stats import ttest_ind\n",
    "print(df_matched_control.fb_likes.mean(), df_matched_treatment.fb_likes.mean())\n",
    "\n",
    "# compare samples\n",
    "_, p = ttest_ind(df_matched_control.fb_likes, df_matched_treatment.fb_likes)\n",
    "print(f'p={p:.3f}')\n",
    "\n",
    "# interpret\n",
    "alpha = 0.05  # significance level\n",
    "if p > alpha:\n",
    "    print('same distributions/same group mean (fail to reject H0 - we do not have enough evidence to reject H0)')\n",
    "else:\n",
    "    print('different distributions/different group mean (reject H0)')"
   ]
  },
  {
   "cell_type": "code",
   "execution_count": 27,
   "id": "197f4ac0",
   "metadata": {
    "execution": {
     "iopub.execute_input": "2022-05-26T20:27:55.117904Z",
     "iopub.status.busy": "2022-05-26T20:27:55.117167Z",
     "iopub.status.idle": "2022-05-26T20:27:55.125310Z",
     "shell.execute_reply": "2022-05-26T20:27:55.124306Z"
    },
    "papermill": {
     "duration": 0.0259,
     "end_time": "2022-05-26T20:27:55.127816",
     "exception": false,
     "start_time": "2022-05-26T20:27:55.101916",
     "status": "completed"
    },
    "tags": []
   },
   "outputs": [],
   "source": [
    "# As an effect size, Cohen's d is typically used to represent the magnitude of differences between two (or more) groups on a given variable, with larger values representing a greater differentiation between the two groups on that variable.\n",
    "# we hope the effect sizes for features decrease after matching\n",
    "# adapted from https://machinelearningmastery.com/effect-size-measures-in-python/\n",
    "\n",
    "from numpy import mean\n",
    "from numpy import var\n",
    "from math import sqrt\n",
    " \n",
    "# function to calculate Cohen's d for independent samples\n",
    "def cohen_d(d1, d2):\n",
    "\t# calculate the size of samples\n",
    "\tn1, n2 = len(d1), len(d2)\n",
    "\t# calculate the variance of the samples\n",
    "\ts1, s2 = var(d1, ddof=1), var(d2, ddof=1)\n",
    "\t# calculate the pooled standard deviation\n",
    "\ts = sqrt(((n1 - 1) * s1 + (n2 - 1) * s2) / (n1 + n2 - 2))\n",
    "\t# calculate the means of the samples\n",
    "\tu1, u2 = mean(d1), mean(d2)\n",
    "\t# calculate the effect size\n",
    "\treturn (u1 - u2) / s"
   ]
  },
  {
   "cell_type": "code",
   "execution_count": 28,
   "id": "f6ec53a2",
   "metadata": {
    "execution": {
     "iopub.execute_input": "2022-05-26T20:27:55.155081Z",
     "iopub.status.busy": "2022-05-26T20:27:55.154086Z",
     "iopub.status.idle": "2022-05-26T20:27:55.174361Z",
     "shell.execute_reply": "2022-05-26T20:27:55.173079Z"
    },
    "papermill": {
     "duration": 0.036674,
     "end_time": "2022-05-26T20:27:55.176724",
     "exception": false,
     "start_time": "2022-05-26T20:27:55.140050",
     "status": "completed"
    },
    "tags": []
   },
   "outputs": [],
   "source": [
    "effect_sizes = []\n",
    "cols = ['prom_length', 'price', 'discount_pct', 'coupon_duration', 'featured','limited_supply']\n",
    "\n",
    "for cl in cols:\n",
    "    _, p_before = ttest_ind(df_control[cl], df_treatment[cl])\n",
    "    _, p_after = ttest_ind(df_matched_control[cl], df_matched_treatment[cl])\n",
    "    cohen_d_before = cohen_d(df_treatment[cl], df_control[cl])\n",
    "    cohen_d_after = cohen_d(df_matched_treatment[cl], df_matched_control[cl])\n",
    "    effect_sizes.append([cl,'before', cohen_d_before, p_before])\n",
    "    effect_sizes.append([cl,'after', cohen_d_after, p_after])"
   ]
  },
  {
   "cell_type": "code",
   "execution_count": 29,
   "id": "007b0c15",
   "metadata": {
    "execution": {
     "iopub.execute_input": "2022-05-26T20:27:55.203030Z",
     "iopub.status.busy": "2022-05-26T20:27:55.202520Z",
     "iopub.status.idle": "2022-05-26T20:27:55.220148Z",
     "shell.execute_reply": "2022-05-26T20:27:55.218816Z"
    },
    "papermill": {
     "duration": 0.033026,
     "end_time": "2022-05-26T20:27:55.221970",
     "exception": false,
     "start_time": "2022-05-26T20:27:55.188944",
     "status": "completed"
    },
    "tags": []
   },
   "outputs": [
    {
     "data": {
      "text/html": [
       "<div>\n",
       "<style scoped>\n",
       "    .dataframe tbody tr th:only-of-type {\n",
       "        vertical-align: middle;\n",
       "    }\n",
       "\n",
       "    .dataframe tbody tr th {\n",
       "        vertical-align: top;\n",
       "    }\n",
       "\n",
       "    .dataframe thead th {\n",
       "        text-align: right;\n",
       "    }\n",
       "</style>\n",
       "<table border=\"1\" class=\"dataframe\">\n",
       "  <thead>\n",
       "    <tr style=\"text-align: right;\">\n",
       "      <th></th>\n",
       "      <th>feature</th>\n",
       "      <th>matching</th>\n",
       "      <th>effect_size</th>\n",
       "      <th>p-value</th>\n",
       "    </tr>\n",
       "  </thead>\n",
       "  <tbody>\n",
       "    <tr>\n",
       "      <th>0</th>\n",
       "      <td>prom_length</td>\n",
       "      <td>before</td>\n",
       "      <td>-0.328313</td>\n",
       "      <td>0.000063</td>\n",
       "    </tr>\n",
       "    <tr>\n",
       "      <th>1</th>\n",
       "      <td>prom_length</td>\n",
       "      <td>after</td>\n",
       "      <td>-0.055414</td>\n",
       "      <td>0.594388</td>\n",
       "    </tr>\n",
       "    <tr>\n",
       "      <th>2</th>\n",
       "      <td>price</td>\n",
       "      <td>before</td>\n",
       "      <td>-0.233573</td>\n",
       "      <td>0.004315</td>\n",
       "    </tr>\n",
       "    <tr>\n",
       "      <th>3</th>\n",
       "      <td>price</td>\n",
       "      <td>after</td>\n",
       "      <td>-0.004145</td>\n",
       "      <td>0.968225</td>\n",
       "    </tr>\n",
       "    <tr>\n",
       "      <th>4</th>\n",
       "      <td>discount_pct</td>\n",
       "      <td>before</td>\n",
       "      <td>0.035411</td>\n",
       "      <td>0.664344</td>\n",
       "    </tr>\n",
       "    <tr>\n",
       "      <th>5</th>\n",
       "      <td>discount_pct</td>\n",
       "      <td>after</td>\n",
       "      <td>0.118635</td>\n",
       "      <td>0.254612</td>\n",
       "    </tr>\n",
       "    <tr>\n",
       "      <th>6</th>\n",
       "      <td>coupon_duration</td>\n",
       "      <td>before</td>\n",
       "      <td>0.282300</td>\n",
       "      <td>0.000571</td>\n",
       "    </tr>\n",
       "    <tr>\n",
       "      <th>7</th>\n",
       "      <td>coupon_duration</td>\n",
       "      <td>after</td>\n",
       "      <td>-0.032618</td>\n",
       "      <td>0.753920</td>\n",
       "    </tr>\n",
       "    <tr>\n",
       "      <th>8</th>\n",
       "      <td>featured</td>\n",
       "      <td>before</td>\n",
       "      <td>0.119074</td>\n",
       "      <td>0.144802</td>\n",
       "    </tr>\n",
       "    <tr>\n",
       "      <th>9</th>\n",
       "      <td>featured</td>\n",
       "      <td>after</td>\n",
       "      <td>-0.030542</td>\n",
       "      <td>0.769122</td>\n",
       "    </tr>\n",
       "    <tr>\n",
       "      <th>10</th>\n",
       "      <td>limited_supply</td>\n",
       "      <td>before</td>\n",
       "      <td>-0.198547</td>\n",
       "      <td>0.015178</td>\n",
       "    </tr>\n",
       "    <tr>\n",
       "      <th>11</th>\n",
       "      <td>limited_supply</td>\n",
       "      <td>after</td>\n",
       "      <td>0.077935</td>\n",
       "      <td>0.454002</td>\n",
       "    </tr>\n",
       "  </tbody>\n",
       "</table>\n",
       "</div>"
      ],
      "text/plain": [
       "            feature matching  effect_size   p-value\n",
       "0       prom_length   before    -0.328313  0.000063\n",
       "1       prom_length    after    -0.055414  0.594388\n",
       "2             price   before    -0.233573  0.004315\n",
       "3             price    after    -0.004145  0.968225\n",
       "4      discount_pct   before     0.035411  0.664344\n",
       "5      discount_pct    after     0.118635  0.254612\n",
       "6   coupon_duration   before     0.282300  0.000571\n",
       "7   coupon_duration    after    -0.032618  0.753920\n",
       "8          featured   before     0.119074  0.144802\n",
       "9          featured    after    -0.030542  0.769122\n",
       "10   limited_supply   before    -0.198547  0.015178\n",
       "11   limited_supply    after     0.077935  0.454002"
      ]
     },
     "execution_count": 29,
     "metadata": {},
     "output_type": "execute_result"
    }
   ],
   "source": [
    "df_effect_sizes = pd.DataFrame(effect_sizes, columns=['feature', 'matching', 'effect_size', 'p-value'])\n",
    "df_effect_sizes"
   ]
  },
  {
   "cell_type": "code",
   "execution_count": 30,
   "id": "9aa8eca5",
   "metadata": {
    "execution": {
     "iopub.execute_input": "2022-05-26T20:27:55.248938Z",
     "iopub.status.busy": "2022-05-26T20:27:55.248152Z",
     "iopub.status.idle": "2022-05-26T20:27:55.565443Z",
     "shell.execute_reply": "2022-05-26T20:27:55.564332Z"
    },
    "papermill": {
     "duration": 0.333765,
     "end_time": "2022-05-26T20:27:55.568063",
     "exception": false,
     "start_time": "2022-05-26T20:27:55.234298",
     "status": "completed"
    },
    "tags": []
   },
   "outputs": [
    {
     "data": {
      "text/plain": [
       "<AxesSubplot:xlabel='effect_size', ylabel='feature'>"
      ]
     },
     "execution_count": 30,
     "metadata": {},
     "output_type": "execute_result"
    },
    {
     "data": {
      "image/png": "[encoded data removed]",
      "text/plain": [
       "<Figure size 1080x360 with 1 Axes>"
      ]
     },
     "metadata": {},
     "output_type": "display_data"
    }
   ],
   "source": [
    "# discount_pct and featured are not significant, all other features are more balanced after matching\n",
    "fig, ax = plt.subplots(figsize=(15, 5))\n",
    "sns.barplot(data=df_effect_sizes, x='effect_size', y='feature', hue='matching', orient='h')"
   ]
  },
  {
   "cell_type": "code",
   "execution_count": 31,
   "id": "5c840fd7",
   "metadata": {
    "execution": {
     "iopub.execute_input": "2022-05-26T20:27:55.609954Z",
     "iopub.status.busy": "2022-05-26T20:27:55.609409Z",
     "iopub.status.idle": "2022-05-26T20:28:08.595385Z",
     "shell.execute_reply": "2022-05-26T20:28:08.594038Z"
    },
    "papermill": {
     "duration": 13.015078,
     "end_time": "2022-05-26T20:28:08.598162",
     "exception": false,
     "start_time": "2022-05-26T20:27:55.583084",
     "status": "completed"
    },
    "scrolled": true,
    "tags": []
   },
   "outputs": [],
   "source": [
    "# !pip install psmpy"
   ]
  },
  {
   "cell_type": "code",
   "execution_count": 32,
   "id": "02d06a97",
   "metadata": {
    "execution": {
     "iopub.execute_input": "2022-05-26T20:28:08.629180Z",
     "iopub.status.busy": "2022-05-26T20:28:08.628436Z",
     "iopub.status.idle": "2022-05-26T20:28:08.640396Z",
     "shell.execute_reply": "2022-05-26T20:28:08.639254Z"
    },
    "papermill": {
     "duration": 0.031377,
     "end_time": "2022-05-26T20:28:08.643043",
     "exception": false,
     "start_time": "2022-05-26T20:28:08.611666",
     "status": "completed"
    },
    "tags": []
   },
   "outputs": [],
   "source": [
    "from psmpy import PsmPy\n",
    "from psmpy.plotting import *"
   ]
  },
  {
   "cell_type": "code",
   "execution_count": 33,
   "id": "0723d48f",
   "metadata": {
    "execution": {
     "iopub.execute_input": "2022-05-26T20:28:08.673190Z",
     "iopub.status.busy": "2022-05-26T20:28:08.671960Z",
     "iopub.status.idle": "2022-05-26T20:28:08.692782Z",
     "shell.execute_reply": "2022-05-26T20:28:08.691683Z"
    },
    "papermill": {
     "duration": 0.038399,
     "end_time": "2022-05-26T20:28:08.695292",
     "exception": false,
     "start_time": "2022-05-26T20:28:08.656893",
     "status": "completed"
    },
    "tags": []
   },
   "outputs": [],
   "source": [
    "df_psmpy = pd.read_csv('./data/groupon.csv')\n",
    "# df_psmpy.info()"
   ]
  },
  {
   "cell_type": "code",
   "execution_count": 34,
   "id": "773b4f73",
   "metadata": {
    "execution": {
     "iopub.execute_input": "2022-05-26T20:28:08.725165Z",
     "iopub.status.busy": "2022-05-26T20:28:08.724661Z",
     "iopub.status.idle": "2022-05-26T20:28:08.739651Z",
     "shell.execute_reply": "2022-05-26T20:28:08.738842Z"
    },
    "papermill": {
     "duration": 0.032737,
     "end_time": "2022-05-26T20:28:08.742007",
     "exception": false,
     "start_time": "2022-05-26T20:28:08.709270",
     "status": "completed"
    },
    "tags": []
   },
   "outputs": [],
   "source": [
    "# exclude: ignore any covariates (columns) passed to the it during model fitting\n",
    "# indx - required parameter that references a unique ID number for each case\n",
    "psm = PsmPy(df_psmpy, treatment='treatment', indx='deal_id', exclude = ['min_req', 'start_date', 'fb_likes', 'quantity_sold', 'revenue'])"
   ]
  },
  {
   "cell_type": "code",
   "execution_count": 35,
   "id": "f453897b",
   "metadata": {
    "execution": {
     "iopub.execute_input": "2022-05-26T20:28:08.773798Z",
     "iopub.status.busy": "2022-05-26T20:28:08.772545Z",
     "iopub.status.idle": "2022-05-26T20:28:08.811767Z",
     "shell.execute_reply": "2022-05-26T20:28:08.810414Z"
    },
    "papermill": {
     "duration": 0.057441,
     "end_time": "2022-05-26T20:28:08.814316",
     "exception": false,
     "start_time": "2022-05-26T20:28:08.756875",
     "status": "completed"
    },
    "tags": []
   },
   "outputs": [
    {
     "data": {
      "text/html": [
       "<div>\n",
       "<style scoped>\n",
       "    .dataframe tbody tr th:only-of-type {\n",
       "        vertical-align: middle;\n",
       "    }\n",
       "\n",
       "    .dataframe tbody tr th {\n",
       "        vertical-align: top;\n",
       "    }\n",
       "\n",
       "    .dataframe thead th {\n",
       "        text-align: right;\n",
       "    }\n",
       "</style>\n",
       "<table border=\"1\" class=\"dataframe\">\n",
       "  <thead>\n",
       "    <tr style=\"text-align: right;\">\n",
       "      <th></th>\n",
       "      <th>deal_id</th>\n",
       "      <th>prom_length</th>\n",
       "      <th>price</th>\n",
       "      <th>discount_pct</th>\n",
       "      <th>coupon_duration</th>\n",
       "      <th>featured</th>\n",
       "      <th>limited_supply</th>\n",
       "      <th>propensity_score</th>\n",
       "      <th>propensity_logit</th>\n",
       "      <th>treatment</th>\n",
       "    </tr>\n",
       "  </thead>\n",
       "  <tbody>\n",
       "    <tr>\n",
       "      <th>0</th>\n",
       "      <td>3rd-coast-cruising-1</td>\n",
       "      <td>3</td>\n",
       "      <td>75</td>\n",
       "      <td>50</td>\n",
       "      <td>378</td>\n",
       "      <td>1</td>\n",
       "      <td>1</td>\n",
       "      <td>0.541488</td>\n",
       "      <td>0.166333</td>\n",
       "      <td>0</td>\n",
       "    </tr>\n",
       "    <tr>\n",
       "      <th>1</th>\n",
       "      <td>516-skydive-new-york</td>\n",
       "      <td>7</td>\n",
       "      <td>145</td>\n",
       "      <td>39</td>\n",
       "      <td>170</td>\n",
       "      <td>0</td>\n",
       "      <td>1</td>\n",
       "      <td>0.063623</td>\n",
       "      <td>-2.689036</td>\n",
       "      <td>0</td>\n",
       "    </tr>\n",
       "    <tr>\n",
       "      <th>2</th>\n",
       "      <td>92nd-st-y-nyc</td>\n",
       "      <td>3</td>\n",
       "      <td>29</td>\n",
       "      <td>82</td>\n",
       "      <td>125</td>\n",
       "      <td>0</td>\n",
       "      <td>0</td>\n",
       "      <td>0.392219</td>\n",
       "      <td>-0.437994</td>\n",
       "      <td>0</td>\n",
       "    </tr>\n",
       "    <tr>\n",
       "      <th>3</th>\n",
       "      <td>above-all-cruises-ny</td>\n",
       "      <td>4</td>\n",
       "      <td>39</td>\n",
       "      <td>51</td>\n",
       "      <td>207</td>\n",
       "      <td>0</td>\n",
       "      <td>1</td>\n",
       "      <td>0.317265</td>\n",
       "      <td>-0.766371</td>\n",
       "      <td>0</td>\n",
       "    </tr>\n",
       "    <tr>\n",
       "      <th>4</th>\n",
       "      <td>adaptive-adventures</td>\n",
       "      <td>3</td>\n",
       "      <td>10</td>\n",
       "      <td>0</td>\n",
       "      <td>5</td>\n",
       "      <td>0</td>\n",
       "      <td>1</td>\n",
       "      <td>0.321258</td>\n",
       "      <td>-0.747996</td>\n",
       "      <td>0</td>\n",
       "    </tr>\n",
       "    <tr>\n",
       "      <th>...</th>\n",
       "      <td>...</td>\n",
       "      <td>...</td>\n",
       "      <td>...</td>\n",
       "      <td>...</td>\n",
       "      <td>...</td>\n",
       "      <td>...</td>\n",
       "      <td>...</td>\n",
       "      <td>...</td>\n",
       "      <td>...</td>\n",
       "      <td>...</td>\n",
       "    </tr>\n",
       "    <tr>\n",
       "      <th>705</th>\n",
       "      <td>gl-windy-city-circus-1</td>\n",
       "      <td>4</td>\n",
       "      <td>20</td>\n",
       "      <td>50</td>\n",
       "      <td>5</td>\n",
       "      <td>0</td>\n",
       "      <td>1</td>\n",
       "      <td>0.212691</td>\n",
       "      <td>-1.308780</td>\n",
       "      <td>1</td>\n",
       "    </tr>\n",
       "    <tr>\n",
       "      <th>706</th>\n",
       "      <td>lets-go-paragliding</td>\n",
       "      <td>6</td>\n",
       "      <td>99</td>\n",
       "      <td>58</td>\n",
       "      <td>73</td>\n",
       "      <td>0</td>\n",
       "      <td>1</td>\n",
       "      <td>0.083981</td>\n",
       "      <td>-2.389441</td>\n",
       "      <td>1</td>\n",
       "    </tr>\n",
       "    <tr>\n",
       "      <th>707</th>\n",
       "      <td>spare-time-chicago-3</td>\n",
       "      <td>4</td>\n",
       "      <td>12</td>\n",
       "      <td>74</td>\n",
       "      <td>166</td>\n",
       "      <td>0</td>\n",
       "      <td>0</td>\n",
       "      <td>0.392404</td>\n",
       "      <td>-0.437220</td>\n",
       "      <td>1</td>\n",
       "    </tr>\n",
       "    <tr>\n",
       "      <th>708</th>\n",
       "      <td>dc-gmt-slice-chicago-tours</td>\n",
       "      <td>7</td>\n",
       "      <td>22</td>\n",
       "      <td>51</td>\n",
       "      <td>106</td>\n",
       "      <td>0</td>\n",
       "      <td>1</td>\n",
       "      <td>0.128638</td>\n",
       "      <td>-1.913052</td>\n",
       "      <td>1</td>\n",
       "    </tr>\n",
       "    <tr>\n",
       "      <th>709</th>\n",
       "      <td>slice-of-chicago-pizza-tours-3</td>\n",
       "      <td>3</td>\n",
       "      <td>22</td>\n",
       "      <td>51</td>\n",
       "      <td>83</td>\n",
       "      <td>0</td>\n",
       "      <td>1</td>\n",
       "      <td>0.322159</td>\n",
       "      <td>-0.743866</td>\n",
       "      <td>1</td>\n",
       "    </tr>\n",
       "  </tbody>\n",
       "</table>\n",
       "<p>710 rows × 10 columns</p>\n",
       "</div>"
      ],
      "text/plain": [
       "                            deal_id  prom_length  price  discount_pct  \\\n",
       "0              3rd-coast-cruising-1            3     75            50   \n",
       "1              516-skydive-new-york            7    145            39   \n",
       "2                     92nd-st-y-nyc            3     29            82   \n",
       "3              above-all-cruises-ny            4     39            51   \n",
       "4               adaptive-adventures            3     10             0   \n",
       "..                              ...          ...    ...           ...   \n",
       "705          gl-windy-city-circus-1            4     20            50   \n",
       "706             lets-go-paragliding            6     99            58   \n",
       "707            spare-time-chicago-3            4     12            74   \n",
       "708      dc-gmt-slice-chicago-tours            7     22            51   \n",
       "709  slice-of-chicago-pizza-tours-3            3     22            51   \n",
       "\n",
       "     coupon_duration  featured  limited_supply  propensity_score  \\\n",
       "0                378         1               1          0.541488   \n",
       "1                170         0               1          0.063623   \n",
       "2                125         0               0          0.392219   \n",
       "3                207         0               1          0.317265   \n",
       "4                  5         0               1          0.321258   \n",
       "..               ...       ...             ...               ...   \n",
       "705                5         0               1          0.212691   \n",
       "706               73         0               1          0.083981   \n",
       "707              166         0               0          0.392404   \n",
       "708              106         0               1          0.128638   \n",
       "709               83         0               1          0.322159   \n",
       "\n",
       "     propensity_logit  treatment  \n",
       "0            0.166333          0  \n",
       "1           -2.689036          0  \n",
       "2           -0.437994          0  \n",
       "3           -0.766371          0  \n",
       "4           -0.747996          0  \n",
       "..                ...        ...  \n",
       "705         -1.308780          1  \n",
       "706         -2.389441          1  \n",
       "707         -0.437220          1  \n",
       "708         -1.913052          1  \n",
       "709         -0.743866          1  \n",
       "\n",
       "[710 rows x 10 columns]"
      ]
     },
     "execution_count": 35,
     "metadata": {},
     "output_type": "execute_result"
    }
   ],
   "source": [
    "# same as my code using balance=False\n",
    "psm.logistic_ps(balance=False)\n",
    "psm.predicted_data"
   ]
  },
  {
   "cell_type": "code",
   "execution_count": 36,
   "id": "ca734dfe",
   "metadata": {
    "execution": {
     "iopub.execute_input": "2022-05-26T20:28:08.845075Z",
     "iopub.status.busy": "2022-05-26T20:28:08.844589Z",
     "iopub.status.idle": "2022-05-26T20:28:09.022373Z",
     "shell.execute_reply": "2022-05-26T20:28:09.021005Z"
    },
    "papermill": {
     "duration": 0.197154,
     "end_time": "2022-05-26T20:28:09.026031",
     "exception": false,
     "start_time": "2022-05-26T20:28:08.828877",
     "status": "completed"
    },
    "tags": []
   },
   "outputs": [
    {
     "name": "stderr",
     "output_type": "stream",
     "text": [
      "C:\\Users\\2joon\\anaconda3\\lib\\site-packages\\psmpy\\psmpy.py:346: UserWarning: Some values do not have a match\n",
      "  warnings.warn('Some values do not have a match')\n"
     ]
    }
   ],
   "source": [
    "psm.knn_matched(matcher='propensity_logit', replacement=False, caliper=None)"
   ]
  },
  {
   "cell_type": "code",
   "execution_count": 37,
   "id": "38c7ab00",
   "metadata": {
    "execution": {
     "iopub.execute_input": "2022-05-26T20:28:09.061143Z",
     "iopub.status.busy": "2022-05-26T20:28:09.060035Z",
     "iopub.status.idle": "2022-05-26T20:28:09.344842Z",
     "shell.execute_reply": "2022-05-26T20:28:09.343645Z"
    },
    "papermill": {
     "duration": 0.305412,
     "end_time": "2022-05-26T20:28:09.347064",
     "exception": false,
     "start_time": "2022-05-26T20:28:09.041652",
     "status": "completed"
    },
    "tags": []
   },
   "outputs": [
    {
     "data": {
      "image/png": "[encoded data removed]",
      "text/plain": [
       "<Figure size 720x576 with 1 Axes>"
      ]
     },
     "metadata": {},
     "output_type": "display_data"
    }
   ],
   "source": [
    "psm.plot_match(Title='Matching Result', Ylabel='# of obs', Xlabel= 'propensity logit', names = ['treatment', 'control'])"
   ]
  },
  {
   "cell_type": "code",
   "execution_count": 38,
   "id": "0349e05c",
   "metadata": {
    "execution": {
     "iopub.execute_input": "2022-05-26T20:28:09.377162Z",
     "iopub.status.busy": "2022-05-26T20:28:09.376375Z",
     "iopub.status.idle": "2022-05-26T20:28:09.700763Z",
     "shell.execute_reply": "2022-05-26T20:28:09.699977Z"
    },
    "papermill": {
     "duration": 0.341448,
     "end_time": "2022-05-26T20:28:09.702732",
     "exception": false,
     "start_time": "2022-05-26T20:28:09.361284",
     "status": "completed"
    },
    "tags": []
   },
   "outputs": [
    {
     "data": {
      "image/png": "[encoded data removed]",
      "text/plain": [
       "<Figure size 720x576 with 1 Axes>"
      ]
     },
     "metadata": {},
     "output_type": "display_data"
    }
   ],
   "source": [
    "psm.effect_size_plot()"
   ]
  },
  {
   "cell_type": "code",
   "execution_count": 39,
   "id": "c9f9a2d0",
   "metadata": {
    "execution": {
     "iopub.execute_input": "2022-05-26T20:28:09.736061Z",
     "iopub.status.busy": "2022-05-26T20:28:09.735295Z",
     "iopub.status.idle": "2022-05-26T20:28:09.745440Z",
     "shell.execute_reply": "2022-05-26T20:28:09.744540Z"
    },
    "papermill": {
     "duration": 0.029755,
     "end_time": "2022-05-26T20:28:09.747863",
     "exception": false,
     "start_time": "2022-05-26T20:28:09.718108",
     "status": "completed"
    },
    "tags": []
   },
   "outputs": [
    {
     "data": {
      "text/html": [
       "<div>\n",
       "<style scoped>\n",
       "    .dataframe tbody tr th:only-of-type {\n",
       "        vertical-align: middle;\n",
       "    }\n",
       "\n",
       "    .dataframe tbody tr th {\n",
       "        vertical-align: top;\n",
       "    }\n",
       "\n",
       "    .dataframe thead th {\n",
       "        text-align: right;\n",
       "    }\n",
       "</style>\n",
       "<table border=\"1\" class=\"dataframe\">\n",
       "  <thead>\n",
       "    <tr style=\"text-align: right;\">\n",
       "      <th></th>\n",
       "      <th>Variable</th>\n",
       "      <th>matching</th>\n",
       "      <th>Effect Size</th>\n",
       "    </tr>\n",
       "  </thead>\n",
       "  <tbody>\n",
       "    <tr>\n",
       "      <th>0</th>\n",
       "      <td>prom_length</td>\n",
       "      <td>before</td>\n",
       "      <td>-0.328313</td>\n",
       "    </tr>\n",
       "    <tr>\n",
       "      <th>1</th>\n",
       "      <td>prom_length</td>\n",
       "      <td>after</td>\n",
       "      <td>0.045102</td>\n",
       "    </tr>\n",
       "    <tr>\n",
       "      <th>2</th>\n",
       "      <td>price</td>\n",
       "      <td>before</td>\n",
       "      <td>-0.233573</td>\n",
       "    </tr>\n",
       "    <tr>\n",
       "      <th>3</th>\n",
       "      <td>price</td>\n",
       "      <td>after</td>\n",
       "      <td>-0.076804</td>\n",
       "    </tr>\n",
       "    <tr>\n",
       "      <th>4</th>\n",
       "      <td>discount_pct</td>\n",
       "      <td>before</td>\n",
       "      <td>0.035411</td>\n",
       "    </tr>\n",
       "    <tr>\n",
       "      <th>5</th>\n",
       "      <td>discount_pct</td>\n",
       "      <td>after</td>\n",
       "      <td>-0.027746</td>\n",
       "    </tr>\n",
       "    <tr>\n",
       "      <th>6</th>\n",
       "      <td>coupon_duration</td>\n",
       "      <td>before</td>\n",
       "      <td>0.282300</td>\n",
       "    </tr>\n",
       "    <tr>\n",
       "      <th>7</th>\n",
       "      <td>coupon_duration</td>\n",
       "      <td>after</td>\n",
       "      <td>0.169019</td>\n",
       "    </tr>\n",
       "    <tr>\n",
       "      <th>8</th>\n",
       "      <td>featured</td>\n",
       "      <td>before</td>\n",
       "      <td>0.119074</td>\n",
       "    </tr>\n",
       "    <tr>\n",
       "      <th>9</th>\n",
       "      <td>featured</td>\n",
       "      <td>after</td>\n",
       "      <td>-0.065908</td>\n",
       "    </tr>\n",
       "    <tr>\n",
       "      <th>10</th>\n",
       "      <td>limited_supply</td>\n",
       "      <td>before</td>\n",
       "      <td>-0.198547</td>\n",
       "    </tr>\n",
       "    <tr>\n",
       "      <th>11</th>\n",
       "      <td>limited_supply</td>\n",
       "      <td>after</td>\n",
       "      <td>0.046427</td>\n",
       "    </tr>\n",
       "  </tbody>\n",
       "</table>\n",
       "</div>"
      ],
      "text/plain": [
       "           Variable matching  Effect Size\n",
       "0       prom_length   before    -0.328313\n",
       "1       prom_length    after     0.045102\n",
       "2             price   before    -0.233573\n",
       "3             price    after    -0.076804\n",
       "4      discount_pct   before     0.035411\n",
       "5      discount_pct    after    -0.027746\n",
       "6   coupon_duration   before     0.282300\n",
       "7   coupon_duration    after     0.169019\n",
       "8          featured   before     0.119074\n",
       "9          featured    after    -0.065908\n",
       "10   limited_supply   before    -0.198547\n",
       "11   limited_supply    after     0.046427"
      ]
     },
     "execution_count": 39,
     "metadata": {},
     "output_type": "execute_result"
    }
   ],
   "source": [
    "psm.effect_size"
   ]
  }
 ],
 "metadata": {
  "kernelspec": {
   "display_name": "Python 3 (ipykernel)",
   "language": "python",
   "name": "python3"
  },
  "language_info": {
   "codemirror_mode": {
    "name": "ipython",
    "version": 3
   },
   "file_extension": ".py",
   "mimetype": "text/x-python",
   "name": "python",
   "nbconvert_exporter": "python",
   "pygments_lexer": "ipython3",
   "version": "3.9.12"
  },
  "papermill": {
   "default_parameters": {},
   "duration": 30.308695,
   "end_time": "2022-05-26T20:28:10.685242",
   "environment_variables": {},
   "exception": null,
   "input_path": "__notebook__.ipynb",
   "output_path": "__notebook__.ipynb",
   "parameters": {},
   "start_time": "2022-05-26T20:27:40.376547",
   "version": "2.3.4"
  }
 },
 "nbformat": 4,
 "nbformat_minor": 5
}
