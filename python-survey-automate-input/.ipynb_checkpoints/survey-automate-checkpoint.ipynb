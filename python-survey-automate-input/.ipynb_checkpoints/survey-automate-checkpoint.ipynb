{
 "cells": [
  {
   "cell_type": "code",
   "execution_count": 1,
   "id": "06dd8bc2",
   "metadata": {},
   "outputs": [],
   "source": [
    "respondents=28 #응답인원"
   ]
  },
  {
   "cell_type": "markdown",
   "id": "8d1e129d",
   "metadata": {},
   "source": [
    "## 5 likert (Q1~6)"
   ]
  },
  {
   "cell_type": "code",
   "execution_count": null,
   "id": "7d373e22",
   "metadata": {},
   "outputs": [
    {
     "name": "stdout",
     "output_type": "stream",
     "text": [
      "55555555555\n"
     ]
    }
   ],
   "source": [
    "responses=[]\n",
    "for response in range(respondents):\n",
    "    responses.append(input())"
   ]
  },
  {
   "cell_type": "code",
   "execution_count": null,
   "id": "a2f7b1ed",
   "metadata": {},
   "outputs": [],
   "source": [
    "responses"
   ]
  },
  {
   "cell_type": "code",
   "execution_count": null,
   "id": "32b28fd9",
   "metadata": {},
   "outputs": [],
   "source": [
    "responses.pop()"
   ]
  },
  {
   "cell_type": "code",
   "execution_count": null,
   "id": "0a0865b7",
   "metadata": {},
   "outputs": [],
   "source": [
    "responses.append('545555')"
   ]
  },
  {
   "cell_type": "code",
   "execution_count": null,
   "id": "015a7370",
   "metadata": {},
   "outputs": [],
   "source": [
    "plist=[]\n",
    "\n",
    "for response in responses:\n",
    "    print(response)\n",
    "    a = []\n",
    "    for i in response:\n",
    "        a.append(int(i))\n",
    "    plist.append(a)"
   ]
  },
  {
   "cell_type": "code",
   "execution_count": null,
   "id": "9bf7c3d9",
   "metadata": {},
   "outputs": [],
   "source": [
    "import pandas as pd\n",
    "df=pd.DataFrame(plist)"
   ]
  },
  {
   "cell_type": "code",
   "execution_count": null,
   "id": "2ed177d2",
   "metadata": {},
   "outputs": [],
   "source": [
    "df"
   ]
  },
  {
   "cell_type": "markdown",
   "id": "14fc3620",
   "metadata": {},
   "source": [
    "## 10 likert (Q7)"
   ]
  },
  {
   "cell_type": "code",
   "execution_count": null,
   "id": "a20eee7c",
   "metadata": {},
   "outputs": [],
   "source": [
    "responses=[]\n",
    "for response in range(respondents):\n",
    "    responses.append(int(input()))"
   ]
  },
  {
   "cell_type": "code",
   "execution_count": null,
   "id": "233b83cd",
   "metadata": {},
   "outputs": [],
   "source": [
    "df['7']=responses"
   ]
  },
  {
   "cell_type": "code",
   "execution_count": null,
   "id": "ded746b2",
   "metadata": {
    "scrolled": false
   },
   "outputs": [],
   "source": [
    "df"
   ]
  },
  {
   "cell_type": "code",
   "execution_count": null,
   "id": "9775124b",
   "metadata": {},
   "outputs": [],
   "source": [
    "speaker=input()"
   ]
  },
  {
   "cell_type": "code",
   "execution_count": null,
   "id": "0473da16",
   "metadata": {},
   "outputs": [],
   "source": [
    "filename=\"survey_result-\"+speaker+\".csv\"\n",
    "filename"
   ]
  },
  {
   "cell_type": "code",
   "execution_count": null,
   "id": "953f2a7a",
   "metadata": {},
   "outputs": [],
   "source": [
    "df.to_csv(filename)"
   ]
  },
  {
   "cell_type": "code",
   "execution_count": null,
   "id": "850cfdaa",
   "metadata": {},
   "outputs": [],
   "source": []
  }
 ],
 "metadata": {
  "kernelspec": {
   "display_name": "Python 3 (ipykernel)",
   "language": "python",
   "name": "python3"
  },
  "language_info": {
   "codemirror_mode": {
    "name": "ipython",
    "version": 3
   },
   "file_extension": ".py",
   "mimetype": "text/x-python",
   "name": "python",
   "nbconvert_exporter": "python",
   "pygments_lexer": "ipython3",
   "version": "3.9.7"
  }
 },
 "nbformat": 4,
 "nbformat_minor": 5
}
