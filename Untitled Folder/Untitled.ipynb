{
 "cells": [
  {
   "cell_type": "code",
   "execution_count": 4,
   "id": "1a7c3ae4",
   "metadata": {},
   "outputs": [],
   "source": [
    "import time, os\n",
    "from multiprocessing import Pool\n",
    "import multiprocessing as mp"
   ]
  },
  {
   "cell_type": "code",
   "execution_count": 3,
   "id": "0b5ee653",
   "metadata": {},
   "outputs": [
    {
     "data": {
      "text/plain": [
       "16"
      ]
     },
     "execution_count": 3,
     "metadata": {},
     "output_type": "execute_result"
    }
   ],
   "source": [
    "import multiprocessing as mp\n",
    "mp.cpu_count()"
   ]
  },
  {
   "cell_type": "code",
   "execution_count": 2,
   "id": "b9c4a647",
   "metadata": {},
   "outputs": [
    {
     "name": "stdout",
     "output_type": "stream",
     "text": [
      "value 0 is in PID : 11444\n",
      "value 1 is in PID : 11444\n",
      "value 2 is in PID : 11444\n",
      "value 3 is in PID : 11444\n",
      "value 4 is in PID : 11444\n",
      "value 5 is in PID : 11444\n",
      "value 6 is in PID : 11444\n",
      "value 7 is in PID : 11444\n",
      "value 8 is in PID : 11444\n",
      "value 9 is in PID : 11444\n",
      "value 10 is in PID : 11444\n",
      "value 11 is in PID : 11444\n",
      "[0, 1, 32, 243, 1024, 3125, 7776, 16807, 32768, 59049, 100000, 161051]\n",
      "***run time(sec) : 12\n"
     ]
    }
   ],
   "source": [
    "import time, os\n",
    "\n",
    "def work_func(x):\n",
    "    print(\"value %s is in PID : %s\" % (x, os.getpid()))\n",
    "    time.sleep(1)\n",
    "    return x**5\n",
    "\n",
    "def main():\n",
    "    start = int(time.time())\n",
    "    print(list(map(work_func, range(0,12))))\n",
    "    print(\"***run time(sec) :\", int(time.time()) - start)\n",
    "\n",
    "if __name__ == \"__main__\":\n",
    "    main()"
   ]
  },
  {
   "cell_type": "code",
   "execution_count": 2,
   "id": "a8727473",
   "metadata": {},
   "outputs": [
    {
     "ename": "NameError",
     "evalue": "name 'time' is not defined",
     "output_type": "error",
     "traceback": [
      "\u001b[1;31m---------------------------------------------------------------------------\u001b[0m",
      "\u001b[1;31mNameError\u001b[0m                                 Traceback (most recent call last)",
      "Input \u001b[1;32mIn [2]\u001b[0m, in \u001b[0;36m<cell line: 13>\u001b[1;34m()\u001b[0m\n\u001b[0;32m     11\u001b[0m     \u001b[38;5;28mprint\u001b[39m(\u001b[38;5;124m\"\u001b[39m\u001b[38;5;124m***run time(sec) :\u001b[39m\u001b[38;5;124m\"\u001b[39m, \u001b[38;5;28mint\u001b[39m(time\u001b[38;5;241m.\u001b[39mtime()) \u001b[38;5;241m-\u001b[39m start)\n\u001b[0;32m     13\u001b[0m \u001b[38;5;28;01mif\u001b[39;00m \u001b[38;5;18m__name__\u001b[39m \u001b[38;5;241m==\u001b[39m \u001b[38;5;124m\"\u001b[39m\u001b[38;5;124m__main__\u001b[39m\u001b[38;5;124m\"\u001b[39m:\n\u001b[1;32m---> 14\u001b[0m     \u001b[43mmain\u001b[49m\u001b[43m(\u001b[49m\u001b[43m)\u001b[49m\n",
      "Input \u001b[1;32mIn [2]\u001b[0m, in \u001b[0;36mmain\u001b[1;34m()\u001b[0m\n\u001b[0;32m      6\u001b[0m \u001b[38;5;28;01mdef\u001b[39;00m \u001b[38;5;21mmain\u001b[39m():\n\u001b[1;32m----> 7\u001b[0m     start \u001b[38;5;241m=\u001b[39m \u001b[38;5;28mint\u001b[39m(\u001b[43mtime\u001b[49m\u001b[38;5;241m.\u001b[39mtime())\n\u001b[0;32m      8\u001b[0m     num_cores \u001b[38;5;241m=\u001b[39m \u001b[38;5;241m4\u001b[39m\n\u001b[0;32m      9\u001b[0m     pool \u001b[38;5;241m=\u001b[39m Pool(num_cores)\n",
      "\u001b[1;31mNameError\u001b[0m: name 'time' is not defined"
     ]
    }
   ],
   "source": [
    "from multiprocessing import Pool\n",
    "\n",
    "def work_func(x):\n",
    "    print(\"value %s is in PID : %s\" % (x, os.getpid()))\n",
    "    time.sleep(1)\n",
    "    return x**5\n",
    "\n",
    "def main():\n",
    "    start = int(time.time())\n",
    "    num_cores = 4\n",
    "    pool = Pool(num_cores)\n",
    "    print(pool.map(work_func, range(1,13)))\n",
    "    print(\"***run time(sec) :\", int(time.time()) - start)\n",
    "\n",
    "if __name__ == \"__main__\":\n",
    "    main()"
   ]
  },
  {
   "cell_type": "code",
   "execution_count": null,
   "id": "71a5fae8",
   "metadata": {},
   "outputs": [],
   "source": [
    "def parallel_dataframe(df, func, num_cores):\n",
    "    df_split = np.array_split(df, num_cores)\n",
    "    pool = Pool(num_cores)\n",
    "    df = pd.concat(pool.map(func, df_split))\n",
    "    pool.close()\n",
    "    pool.join()\n",
    "    return df"
   ]
  }
 ],
 "metadata": {
  "kernelspec": {
   "display_name": "Python 3 (ipykernel)",
   "language": "python",
   "name": "python3"
  },
  "language_info": {
   "codemirror_mode": {
    "name": "ipython",
    "version": 3
   },
   "file_extension": ".py",
   "mimetype": "text/x-python",
   "name": "python",
   "nbconvert_exporter": "python",
   "pygments_lexer": "ipython3",
   "version": "3.9.12"
  }
 },
 "nbformat": 4,
 "nbformat_minor": 5
}
