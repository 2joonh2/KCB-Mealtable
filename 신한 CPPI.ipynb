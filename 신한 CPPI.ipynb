{
 "cells": [
  {
   "cell_type": "markdown",
   "id": "cdbdaa5a",
   "metadata": {},
   "source": [
    "# CPPI 실습 on Python\n",
    "신한-KAIST 자산관리전문가과정"
   ]
  },
  {
   "cell_type": "markdown",
   "id": "411103aa",
   "metadata": {},
   "source": [
    "## 1. Parameter 설정"
   ]
  },
  {
   "cell_type": "code",
   "execution_count": 1,
   "id": "d1913045",
   "metadata": {},
   "outputs": [],
   "source": [
    "initial_budget=10000\n",
    "protection_floor=0.85\n",
    "m=4 #multiplier\n",
    "floor=initial_budget*protection_floor\n",
    "rate=0.02 # yearly"
   ]
  },
  {
   "cell_type": "markdown",
   "id": "41359c2d",
   "metadata": {},
   "source": [
    "## 2. Stock Price 데이터 불러오기 (S&P500)"
   ]
  },
  {
   "cell_type": "code",
   "execution_count": 2,
   "id": "f0e0b89e",
   "metadata": {},
   "outputs": [
    {
     "data": {
      "text/html": [
       "<div>\n",
       "<style scoped>\n",
       "    .dataframe tbody tr th:only-of-type {\n",
       "        vertical-align: middle;\n",
       "    }\n",
       "\n",
       "    .dataframe tbody tr th {\n",
       "        vertical-align: top;\n",
       "    }\n",
       "\n",
       "    .dataframe thead th {\n",
       "        text-align: right;\n",
       "    }\n",
       "</style>\n",
       "<table border=\"1\" class=\"dataframe\">\n",
       "  <thead>\n",
       "    <tr style=\"text-align: right;\">\n",
       "      <th></th>\n",
       "      <th>sp500</th>\n",
       "    </tr>\n",
       "  </thead>\n",
       "  <tbody>\n",
       "    <tr>\n",
       "      <th>2000-01-31</th>\n",
       "      <td>1394.46</td>\n",
       "    </tr>\n",
       "    <tr>\n",
       "      <th>2000-02-29</th>\n",
       "      <td>1366.42</td>\n",
       "    </tr>\n",
       "    <tr>\n",
       "      <th>2000-03-31</th>\n",
       "      <td>1498.58</td>\n",
       "    </tr>\n",
       "    <tr>\n",
       "      <th>2000-04-28</th>\n",
       "      <td>1452.43</td>\n",
       "    </tr>\n",
       "    <tr>\n",
       "      <th>2000-05-31</th>\n",
       "      <td>1420.60</td>\n",
       "    </tr>\n",
       "    <tr>\n",
       "      <th>...</th>\n",
       "      <td>...</td>\n",
       "    </tr>\n",
       "    <tr>\n",
       "      <th>2021-08-31</th>\n",
       "      <td>4522.68</td>\n",
       "    </tr>\n",
       "    <tr>\n",
       "      <th>2021-09-30</th>\n",
       "      <td>4307.54</td>\n",
       "    </tr>\n",
       "    <tr>\n",
       "      <th>2021-10-29</th>\n",
       "      <td>4605.38</td>\n",
       "    </tr>\n",
       "    <tr>\n",
       "      <th>2021-11-30</th>\n",
       "      <td>4567.00</td>\n",
       "    </tr>\n",
       "    <tr>\n",
       "      <th>2021-12-31</th>\n",
       "      <td>4766.18</td>\n",
       "    </tr>\n",
       "  </tbody>\n",
       "</table>\n",
       "<p>264 rows × 1 columns</p>\n",
       "</div>"
      ],
      "text/plain": [
       "              sp500\n",
       "2000-01-31  1394.46\n",
       "2000-02-29  1366.42\n",
       "2000-03-31  1498.58\n",
       "2000-04-28  1452.43\n",
       "2000-05-31  1420.60\n",
       "...             ...\n",
       "2021-08-31  4522.68\n",
       "2021-09-30  4307.54\n",
       "2021-10-29  4605.38\n",
       "2021-11-30  4567.00\n",
       "2021-12-31  4766.18\n",
       "\n",
       "[264 rows x 1 columns]"
      ]
     },
     "execution_count": 2,
     "metadata": {},
     "output_type": "execute_result"
    }
   ],
   "source": [
    "import pandas as pd\n",
    "df=pd.read_excel('CPPI(data).xlsx', index_col=0)\n",
    "df"
   ]
  },
  {
   "cell_type": "markdown",
   "id": "c5f0d629",
   "metadata": {},
   "source": [
    "## 3. 주식 수익률 계산"
   ]
  },
  {
   "cell_type": "code",
   "execution_count": 3,
   "id": "505521c8",
   "metadata": {},
   "outputs": [],
   "source": [
    "stock_profit=[0]\n",
    "for i in range(1, len(df)):\n",
    "    stock_profit.append(df['sp500'][i]/ df['sp500'][i-1] -1)\n",
    "    \n",
    "df['stock_profit']=stock_profit"
   ]
  },
  {
   "cell_type": "code",
   "execution_count": 4,
   "id": "da31b12f",
   "metadata": {},
   "outputs": [],
   "source": [
    "stock_only_budget=[initial_budget]\n",
    "for i in range(1, len(df)):\n",
    "    stock_only_budget.append(stock_only_budget[i-1]*(1+df['stock_profit'][i]))\n",
    "    \n",
    "df['stock_only_budget']=stock_only_budget"
   ]
  },
  {
   "cell_type": "code",
   "execution_count": 5,
   "id": "c13f9585",
   "metadata": {},
   "outputs": [
    {
     "data": {
      "text/html": [
       "<div>\n",
       "<style scoped>\n",
       "    .dataframe tbody tr th:only-of-type {\n",
       "        vertical-align: middle;\n",
       "    }\n",
       "\n",
       "    .dataframe tbody tr th {\n",
       "        vertical-align: top;\n",
       "    }\n",
       "\n",
       "    .dataframe thead th {\n",
       "        text-align: right;\n",
       "    }\n",
       "</style>\n",
       "<table border=\"1\" class=\"dataframe\">\n",
       "  <thead>\n",
       "    <tr style=\"text-align: right;\">\n",
       "      <th></th>\n",
       "      <th>sp500</th>\n",
       "      <th>stock_profit</th>\n",
       "      <th>stock_only_budget</th>\n",
       "    </tr>\n",
       "  </thead>\n",
       "  <tbody>\n",
       "    <tr>\n",
       "      <th>2000-01-31</th>\n",
       "      <td>1394.46</td>\n",
       "      <td>0.000000</td>\n",
       "      <td>10000.000000</td>\n",
       "    </tr>\n",
       "    <tr>\n",
       "      <th>2000-02-29</th>\n",
       "      <td>1366.42</td>\n",
       "      <td>-0.020108</td>\n",
       "      <td>9798.918578</td>\n",
       "    </tr>\n",
       "    <tr>\n",
       "      <th>2000-03-31</th>\n",
       "      <td>1498.58</td>\n",
       "      <td>0.096720</td>\n",
       "      <td>10746.668961</td>\n",
       "    </tr>\n",
       "    <tr>\n",
       "      <th>2000-04-28</th>\n",
       "      <td>1452.43</td>\n",
       "      <td>-0.030796</td>\n",
       "      <td>10415.716478</td>\n",
       "    </tr>\n",
       "    <tr>\n",
       "      <th>2000-05-31</th>\n",
       "      <td>1420.60</td>\n",
       "      <td>-0.021915</td>\n",
       "      <td>10187.456076</td>\n",
       "    </tr>\n",
       "    <tr>\n",
       "      <th>...</th>\n",
       "      <td>...</td>\n",
       "      <td>...</td>\n",
       "      <td>...</td>\n",
       "    </tr>\n",
       "    <tr>\n",
       "      <th>2021-08-31</th>\n",
       "      <td>4522.68</td>\n",
       "      <td>0.028990</td>\n",
       "      <td>32433.199948</td>\n",
       "    </tr>\n",
       "    <tr>\n",
       "      <th>2021-09-30</th>\n",
       "      <td>4307.54</td>\n",
       "      <td>-0.047569</td>\n",
       "      <td>30890.380506</td>\n",
       "    </tr>\n",
       "    <tr>\n",
       "      <th>2021-10-29</th>\n",
       "      <td>4605.38</td>\n",
       "      <td>0.069144</td>\n",
       "      <td>33026.261062</td>\n",
       "    </tr>\n",
       "    <tr>\n",
       "      <th>2021-11-30</th>\n",
       "      <td>4567.00</td>\n",
       "      <td>-0.008334</td>\n",
       "      <td>32751.029072</td>\n",
       "    </tr>\n",
       "    <tr>\n",
       "      <th>2021-12-31</th>\n",
       "      <td>4766.18</td>\n",
       "      <td>0.043613</td>\n",
       "      <td>34179.395608</td>\n",
       "    </tr>\n",
       "  </tbody>\n",
       "</table>\n",
       "<p>264 rows × 3 columns</p>\n",
       "</div>"
      ],
      "text/plain": [
       "              sp500  stock_profit  stock_only_budget\n",
       "2000-01-31  1394.46      0.000000       10000.000000\n",
       "2000-02-29  1366.42     -0.020108        9798.918578\n",
       "2000-03-31  1498.58      0.096720       10746.668961\n",
       "2000-04-28  1452.43     -0.030796       10415.716478\n",
       "2000-05-31  1420.60     -0.021915       10187.456076\n",
       "...             ...           ...                ...\n",
       "2021-08-31  4522.68      0.028990       32433.199948\n",
       "2021-09-30  4307.54     -0.047569       30890.380506\n",
       "2021-10-29  4605.38      0.069144       33026.261062\n",
       "2021-11-30  4567.00     -0.008334       32751.029072\n",
       "2021-12-31  4766.18      0.043613       34179.395608\n",
       "\n",
       "[264 rows x 3 columns]"
      ]
     },
     "execution_count": 5,
     "metadata": {},
     "output_type": "execute_result"
    }
   ],
   "source": [
    "df"
   ]
  },
  {
   "cell_type": "markdown",
   "id": "17023fa7",
   "metadata": {},
   "source": [
    "## 4. CPPI 계산"
   ]
  },
  {
   "cell_type": "code",
   "execution_count": 6,
   "id": "56c266ed",
   "metadata": {},
   "outputs": [],
   "source": [
    "budget=[initial_budget]\n",
    "logs_cushion=[]\n",
    "logs_stock=[]\n",
    "logs_cma=[]\n",
    "\n",
    "for i in range(len(df)):\n",
    "    cushion=budget[i]-floor\n",
    "    logs_cushion.append(cushion)\n",
    "    \n",
    "    stock_invest=min(budget[i], m*cushion)\n",
    "    logs_stock.append(stock_invest)\n",
    "    \n",
    "    cma_invest=budget[i]-stock_invest\n",
    "    logs_cma.append(cma_invest)\n",
    "    \n",
    "    if i != len(df)-1:\n",
    "        budget.append(stock_invest*(1+df['stock_profit'][i+1]) + cma_invest*(1+rate/12))"
   ]
  },
  {
   "cell_type": "code",
   "execution_count": 7,
   "id": "7b73abcc",
   "metadata": {},
   "outputs": [],
   "source": [
    "df['CPPI budget']=budget\n",
    "df['floor']=floor\n",
    "df['cusihon']=logs_cushion\n",
    "df['stock_invest']=logs_stock\n",
    "df['cma_invest']=logs_cma\n",
    "df['stock_prop']=df['stock_invest']/df['CPPI budget']"
   ]
  },
  {
   "cell_type": "markdown",
   "id": "877fdc3e",
   "metadata": {},
   "source": [
    "## 5. 결과 시각화 및 파일 저장"
   ]
  },
  {
   "cell_type": "code",
   "execution_count": 8,
   "id": "7ddbc6b1",
   "metadata": {},
   "outputs": [
    {
     "data": {
      "text/html": [
       "<div>\n",
       "<style scoped>\n",
       "    .dataframe tbody tr th:only-of-type {\n",
       "        vertical-align: middle;\n",
       "    }\n",
       "\n",
       "    .dataframe tbody tr th {\n",
       "        vertical-align: top;\n",
       "    }\n",
       "\n",
       "    .dataframe thead th {\n",
       "        text-align: right;\n",
       "    }\n",
       "</style>\n",
       "<table border=\"1\" class=\"dataframe\">\n",
       "  <thead>\n",
       "    <tr style=\"text-align: right;\">\n",
       "      <th></th>\n",
       "      <th>sp500</th>\n",
       "      <th>stock_profit</th>\n",
       "      <th>stock_only_budget</th>\n",
       "      <th>CPPI budget</th>\n",
       "      <th>floor</th>\n",
       "      <th>cusihon</th>\n",
       "      <th>stock_invest</th>\n",
       "      <th>cma_invest</th>\n",
       "      <th>stock_prop</th>\n",
       "    </tr>\n",
       "  </thead>\n",
       "  <tbody>\n",
       "    <tr>\n",
       "      <th>2000-01-31</th>\n",
       "      <td>1394.46</td>\n",
       "      <td>0.000000</td>\n",
       "      <td>10000.000000</td>\n",
       "      <td>10000.000000</td>\n",
       "      <td>8500.0</td>\n",
       "      <td>1500.000000</td>\n",
       "      <td>6000.000000</td>\n",
       "      <td>4000.000000</td>\n",
       "      <td>0.600000</td>\n",
       "    </tr>\n",
       "    <tr>\n",
       "      <th>2000-02-29</th>\n",
       "      <td>1366.42</td>\n",
       "      <td>-0.020108</td>\n",
       "      <td>9798.918578</td>\n",
       "      <td>9886.017813</td>\n",
       "      <td>8500.0</td>\n",
       "      <td>1386.017813</td>\n",
       "      <td>5544.071253</td>\n",
       "      <td>4341.946560</td>\n",
       "      <td>0.560799</td>\n",
       "    </tr>\n",
       "    <tr>\n",
       "      <th>2000-03-31</th>\n",
       "      <td>1498.58</td>\n",
       "      <td>0.096720</td>\n",
       "      <td>10746.668961</td>\n",
       "      <td>10429.476385</td>\n",
       "      <td>8500.0</td>\n",
       "      <td>1929.476385</td>\n",
       "      <td>7717.905539</td>\n",
       "      <td>2711.570846</td>\n",
       "      <td>0.740009</td>\n",
       "    </tr>\n",
       "    <tr>\n",
       "      <th>2000-04-28</th>\n",
       "      <td>1452.43</td>\n",
       "      <td>-0.030796</td>\n",
       "      <td>10415.716478</td>\n",
       "      <td>10196.316439</td>\n",
       "      <td>8500.0</td>\n",
       "      <td>1696.316439</td>\n",
       "      <td>6785.265758</td>\n",
       "      <td>3411.050682</td>\n",
       "      <td>0.665462</td>\n",
       "    </tr>\n",
       "    <tr>\n",
       "      <th>2000-05-31</th>\n",
       "      <td>1420.60</td>\n",
       "      <td>-0.021915</td>\n",
       "      <td>10187.456076</td>\n",
       "      <td>10053.302441</td>\n",
       "      <td>8500.0</td>\n",
       "      <td>1553.302441</td>\n",
       "      <td>6213.209764</td>\n",
       "      <td>3840.092677</td>\n",
       "      <td>0.618027</td>\n",
       "    </tr>\n",
       "    <tr>\n",
       "      <th>...</th>\n",
       "      <td>...</td>\n",
       "      <td>...</td>\n",
       "      <td>...</td>\n",
       "      <td>...</td>\n",
       "      <td>...</td>\n",
       "      <td>...</td>\n",
       "      <td>...</td>\n",
       "      <td>...</td>\n",
       "      <td>...</td>\n",
       "    </tr>\n",
       "    <tr>\n",
       "      <th>2021-08-31</th>\n",
       "      <td>4522.68</td>\n",
       "      <td>0.028990</td>\n",
       "      <td>32433.199948</td>\n",
       "      <td>31834.844961</td>\n",
       "      <td>8500.0</td>\n",
       "      <td>23334.844961</td>\n",
       "      <td>31834.844961</td>\n",
       "      <td>0.000000</td>\n",
       "      <td>1.000000</td>\n",
       "    </tr>\n",
       "    <tr>\n",
       "      <th>2021-09-30</th>\n",
       "      <td>4307.54</td>\n",
       "      <td>-0.047569</td>\n",
       "      <td>30890.380506</td>\n",
       "      <td>30320.488751</td>\n",
       "      <td>8500.0</td>\n",
       "      <td>21820.488751</td>\n",
       "      <td>30320.488751</td>\n",
       "      <td>0.000000</td>\n",
       "      <td>1.000000</td>\n",
       "    </tr>\n",
       "    <tr>\n",
       "      <th>2021-10-29</th>\n",
       "      <td>4605.38</td>\n",
       "      <td>0.069144</td>\n",
       "      <td>33026.261062</td>\n",
       "      <td>32416.964783</td>\n",
       "      <td>8500.0</td>\n",
       "      <td>23916.964783</td>\n",
       "      <td>32416.964783</td>\n",
       "      <td>0.000000</td>\n",
       "      <td>1.000000</td>\n",
       "    </tr>\n",
       "    <tr>\n",
       "      <th>2021-11-30</th>\n",
       "      <td>4567.00</td>\n",
       "      <td>-0.008334</td>\n",
       "      <td>32751.029072</td>\n",
       "      <td>32146.810505</td>\n",
       "      <td>8500.0</td>\n",
       "      <td>23646.810505</td>\n",
       "      <td>32146.810505</td>\n",
       "      <td>0.000000</td>\n",
       "      <td>1.000000</td>\n",
       "    </tr>\n",
       "    <tr>\n",
       "      <th>2021-12-31</th>\n",
       "      <td>4766.18</td>\n",
       "      <td>0.043613</td>\n",
       "      <td>34179.395608</td>\n",
       "      <td>33548.825333</td>\n",
       "      <td>8500.0</td>\n",
       "      <td>25048.825333</td>\n",
       "      <td>33548.825333</td>\n",
       "      <td>0.000000</td>\n",
       "      <td>1.000000</td>\n",
       "    </tr>\n",
       "  </tbody>\n",
       "</table>\n",
       "<p>264 rows × 9 columns</p>\n",
       "</div>"
      ],
      "text/plain": [
       "              sp500  stock_profit  stock_only_budget   CPPI budget   floor  \\\n",
       "2000-01-31  1394.46      0.000000       10000.000000  10000.000000  8500.0   \n",
       "2000-02-29  1366.42     -0.020108        9798.918578   9886.017813  8500.0   \n",
       "2000-03-31  1498.58      0.096720       10746.668961  10429.476385  8500.0   \n",
       "2000-04-28  1452.43     -0.030796       10415.716478  10196.316439  8500.0   \n",
       "2000-05-31  1420.60     -0.021915       10187.456076  10053.302441  8500.0   \n",
       "...             ...           ...                ...           ...     ...   \n",
       "2021-08-31  4522.68      0.028990       32433.199948  31834.844961  8500.0   \n",
       "2021-09-30  4307.54     -0.047569       30890.380506  30320.488751  8500.0   \n",
       "2021-10-29  4605.38      0.069144       33026.261062  32416.964783  8500.0   \n",
       "2021-11-30  4567.00     -0.008334       32751.029072  32146.810505  8500.0   \n",
       "2021-12-31  4766.18      0.043613       34179.395608  33548.825333  8500.0   \n",
       "\n",
       "                 cusihon  stock_invest   cma_invest  stock_prop  \n",
       "2000-01-31   1500.000000   6000.000000  4000.000000    0.600000  \n",
       "2000-02-29   1386.017813   5544.071253  4341.946560    0.560799  \n",
       "2000-03-31   1929.476385   7717.905539  2711.570846    0.740009  \n",
       "2000-04-28   1696.316439   6785.265758  3411.050682    0.665462  \n",
       "2000-05-31   1553.302441   6213.209764  3840.092677    0.618027  \n",
       "...                  ...           ...          ...         ...  \n",
       "2021-08-31  23334.844961  31834.844961     0.000000    1.000000  \n",
       "2021-09-30  21820.488751  30320.488751     0.000000    1.000000  \n",
       "2021-10-29  23916.964783  32416.964783     0.000000    1.000000  \n",
       "2021-11-30  23646.810505  32146.810505     0.000000    1.000000  \n",
       "2021-12-31  25048.825333  33548.825333     0.000000    1.000000  \n",
       "\n",
       "[264 rows x 9 columns]"
      ]
     },
     "execution_count": 8,
     "metadata": {},
     "output_type": "execute_result"
    }
   ],
   "source": [
    "df # show final calculated data table"
   ]
  },
  {
   "cell_type": "code",
   "execution_count": 15,
   "id": "cb7ebdf8",
   "metadata": {},
   "outputs": [],
   "source": [
    "from matplotlib import pyplot as plt"
   ]
  },
  {
   "cell_type": "code",
   "execution_count": 13,
   "id": "1ddf8d81",
   "metadata": {},
   "outputs": [
    {
     "data": {
      "image/png": "[encoded data removed]",
      "text/plain": [
       "<Figure size 1152x648 with 1 Axes>"
      ]
     },
     "metadata": {
      "needs_background": "light"
     },
     "output_type": "display_data"
    }
   ],
   "source": [
    "plt.figure(figsize=(16,9))\n",
    "\n",
    "plt.plot(df.index, df['stock_only_budget'])\n",
    "plt.plot(df.index, df['CPPI budget'])\n",
    "plt.plot(df.index, df['floor'])\n",
    "\n",
    "plt.show()"
   ]
  },
  {
   "cell_type": "code",
   "execution_count": 14,
   "id": "007b31c1",
   "metadata": {},
   "outputs": [
    {
     "data": {
      "image/png": "[encoded data removed]",
      "text/plain": [
       "<Figure size 1152x648 with 1 Axes>"
      ]
     },
     "metadata": {
      "needs_background": "light"
     },
     "output_type": "display_data"
    }
   ],
   "source": [
    "plt.figure(figsize=(16,9))\n",
    "\n",
    "plt.plot(df.index, df['stock_prop'])\n",
    "\n",
    "plt.show()"
   ]
  },
  {
   "cell_type": "code",
   "execution_count": 9,
   "id": "9f93c7bf",
   "metadata": {},
   "outputs": [],
   "source": [
    "df.to_excel('CPPI_calculated.xlsx')"
   ]
  },
  {
   "cell_type": "markdown",
   "id": "fa24894c",
   "metadata": {},
   "source": [
    "## FAQ"
   ]
  },
  {
   "cell_type": "markdown",
   "id": "20ec0f24",
   "metadata": {},
   "source": [
    "코드에 대한 질문은 본 포스팅 아래 댓글로 남겨주시면 최대한 답변드릴 수 있도록 하겠습니다."
   ]
  }
 ],
 "metadata": {
  "kernelspec": {
   "display_name": "Python 3 (ipykernel)",
   "language": "python",
   "name": "python3"
  },
  "language_info": {
   "codemirror_mode": {
    "name": "ipython",
    "version": 3
   },
   "file_extension": ".py",
   "mimetype": "text/x-python",
   "name": "python",
   "nbconvert_exporter": "python",
   "pygments_lexer": "ipython3",
   "version": "3.8.12"
  }
 },
 "nbformat": 4,
 "nbformat_minor": 5
}
