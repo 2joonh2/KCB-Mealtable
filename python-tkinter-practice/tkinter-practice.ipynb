{
 "cells": [
  {
   "cell_type": "code",
   "execution_count": 1,
   "metadata": {},
   "outputs": [],
   "source": [
    "import tkinter\n",
    "from tkinter import filedialog\n",
    "from tkinter import *"
   ]
  },
  {
   "cell_type": "code",
   "execution_count": 4,
   "metadata": {},
   "outputs": [],
   "source": [
    "def IMPORT_FILES():\n",
    "    label1.config(text = \"\\n[IMPORTING...]\")\n",
    "    \n",
    "    # select files\n",
    "    files = filedialog.askopenfilenames(parent=root,initialdir=\"/\"\n",
    "                                        ,title='Please select files');\n",
    "#     # select file\n",
    "#     files = filedialog.askopenfilename(parent=root,initialdir=\"/\"\n",
    "#                                         ,title='Please select a file');   \n",
    "    \n",
    "    if files == '':\n",
    "        label1.config(text = \"\\n[Files are not chosen]\")\n",
    "        return\n",
    "    else: label1.config(text = \"[Import Completed]\\n\")        \n",
    "    \n",
    "    try:\n",
    "        '''\n",
    "        codes\n",
    "        '''\n",
    "    except Exception as ex:\n",
    "#         f = open(\"Error Info.txt\", 'w')\n",
    "#         f.write(str(ex))\n",
    "#         f.close()\n",
    "        label1.config(text = \"\\n[Error Occured]\\n\"+str(ex))        \n",
    "        \n",
    "    return"
   ]
  },
  {
   "cell_type": "code",
   "execution_count": 16,
   "metadata": {},
   "outputs": [],
   "source": [
    "root = Tk()\n",
    "root.title(\"Title\")\n",
    "root.geometry(\"400x300\")\n",
    "\n",
    "root.resizable(False,False)\n",
    "\n",
    "label0 = Label(root, text = \"This is sample GUI programme by python tkinter\\nModify your guidance of the programme\")\n",
    "label0.place(relx=0.5, rely=0.2, anchor=N)\n",
    "\n",
    "label1 = Label(root, text = \"\\n[Please select files]\")\n",
    "label1.place(relx=0.5, rely=0.45, anchor=N)\n",
    "\n",
    "btn1 = Button(root, text = 'Import Files', padx = 15, pady=15,\n",
    "              command = IMPORT_FILES)\n",
    "# should use the function without required input and write in command without \"()\"\n",
    "# https://stackoverflow.com/questions/19285907/why-my-python-tkinter-button-is-executed-automatically\n",
    "btn1.place(relx=0.5, rely=0.7, anchor=CENTER)\n",
    "\n",
    "root.mainloop()"
   ]
  },
  {
   "cell_type": "code",
   "execution_count": null,
   "metadata": {},
   "outputs": [],
   "source": []
  }
 ],
 "metadata": {
  "kernelspec": {
   "display_name": "Python 3 (ipykernel)",
   "language": "python",
   "name": "python3"
  },
  "language_info": {
   "codemirror_mode": {
    "name": "ipython",
    "version": 3
   },
   "file_extension": ".py",
   "mimetype": "text/x-python",
   "name": "python",
   "nbconvert_exporter": "python",
   "pygments_lexer": "ipython3",
   "version": "3.8.12"
  }
 },
 "nbformat": 4,
 "nbformat_minor": 4
}
