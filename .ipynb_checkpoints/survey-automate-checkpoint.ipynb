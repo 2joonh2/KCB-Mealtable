{
 "cells": [
  {
   "cell_type": "code",
   "execution_count": 1,
   "id": "06dd8bc2",
   "metadata": {},
   "outputs": [],
   "source": [
    "respondents=30 # 응답인원"
   ]
  },
  {
   "cell_type": "markdown",
   "id": "8d1e129d",
   "metadata": {},
   "source": [
    "## 5 likert (Q1~6)"
   ]
  },
  {
   "cell_type": "code",
   "execution_count": 2,
   "id": "7d373e22",
   "metadata": {},
   "outputs": [
    {
     "name": "stdout",
     "output_type": "stream",
     "text": [
      "55555\n",
      "55455\n",
      "44455\n"
     ]
    }
   ],
   "source": [
    "responses=[]\n",
    "for response in range(respondents):\n",
    "    responses.append(input())"
   ]
  },
  {
   "cell_type": "code",
   "execution_count": 10,
   "id": "bdb4487a",
   "metadata": {},
   "outputs": [],
   "source": [
    "plist=[]\n",
    "\n",
    "for response in responses:\n",
    "    a = []\n",
    "    for i in responses[0]:\n",
    "        a.append(int(i))\n",
    "    plist.append(a)"
   ]
  },
  {
   "cell_type": "code",
   "execution_count": 17,
   "id": "9bf7c3d9",
   "metadata": {},
   "outputs": [],
   "source": [
    "import pandas as pd\n",
    "df=pd.DataFrame(plist)"
   ]
  },
  {
   "cell_type": "markdown",
   "id": "14fc3620",
   "metadata": {},
   "source": [
    "## 10 likert (Q7)"
   ]
  },
  {
   "cell_type": "code",
   "execution_count": 24,
   "id": "a20eee7c",
   "metadata": {},
   "outputs": [
    {
     "name": "stdout",
     "output_type": "stream",
     "text": [
      "10\n",
      "10\n",
      "10\n"
     ]
    }
   ],
   "source": [
    "responses=[]\n",
    "for response in range(respondents):\n",
    "    responses.append(int(input()))"
   ]
  },
  {
   "cell_type": "code",
   "execution_count": 27,
   "id": "233b83cd",
   "metadata": {},
   "outputs": [],
   "source": [
    "df['7']=responses"
   ]
  },
  {
   "cell_type": "code",
   "execution_count": 28,
   "id": "ded746b2",
   "metadata": {
    "scrolled": true
   },
   "outputs": [
    {
     "data": {
      "text/html": [
       "<div>\n",
       "<style scoped>\n",
       "    .dataframe tbody tr th:only-of-type {\n",
       "        vertical-align: middle;\n",
       "    }\n",
       "\n",
       "    .dataframe tbody tr th {\n",
       "        vertical-align: top;\n",
       "    }\n",
       "\n",
       "    .dataframe thead th {\n",
       "        text-align: right;\n",
       "    }\n",
       "</style>\n",
       "<table border=\"1\" class=\"dataframe\">\n",
       "  <thead>\n",
       "    <tr style=\"text-align: right;\">\n",
       "      <th></th>\n",
       "      <th>0</th>\n",
       "      <th>1</th>\n",
       "      <th>2</th>\n",
       "      <th>3</th>\n",
       "      <th>4</th>\n",
       "      <th>7</th>\n",
       "    </tr>\n",
       "  </thead>\n",
       "  <tbody>\n",
       "    <tr>\n",
       "      <th>0</th>\n",
       "      <td>5</td>\n",
       "      <td>5</td>\n",
       "      <td>5</td>\n",
       "      <td>5</td>\n",
       "      <td>5</td>\n",
       "      <td>10</td>\n",
       "    </tr>\n",
       "    <tr>\n",
       "      <th>1</th>\n",
       "      <td>5</td>\n",
       "      <td>5</td>\n",
       "      <td>5</td>\n",
       "      <td>5</td>\n",
       "      <td>5</td>\n",
       "      <td>10</td>\n",
       "    </tr>\n",
       "    <tr>\n",
       "      <th>2</th>\n",
       "      <td>5</td>\n",
       "      <td>5</td>\n",
       "      <td>5</td>\n",
       "      <td>5</td>\n",
       "      <td>5</td>\n",
       "      <td>10</td>\n",
       "    </tr>\n",
       "  </tbody>\n",
       "</table>\n",
       "</div>"
      ],
      "text/plain": [
       "   0  1  2  3  4   7\n",
       "0  5  5  5  5  5  10\n",
       "1  5  5  5  5  5  10\n",
       "2  5  5  5  5  5  10"
      ]
     },
     "execution_count": 28,
     "metadata": {},
     "output_type": "execute_result"
    }
   ],
   "source": [
    "df"
   ]
  },
  {
   "cell_type": "code",
   "execution_count": 44,
   "id": "9775124b",
   "metadata": {},
   "outputs": [
    {
     "name": "stdout",
     "output_type": "stream",
     "text": [
      "류혁선\n"
     ]
    }
   ],
   "source": [
    "speaker=input()"
   ]
  },
  {
   "cell_type": "code",
   "execution_count": 45,
   "id": "0473da16",
   "metadata": {},
   "outputs": [
    {
     "data": {
      "text/plain": [
       "'survey_result-류혁선.csv'"
      ]
     },
     "execution_count": 45,
     "metadata": {},
     "output_type": "execute_result"
    }
   ],
   "source": [
    "filename=\"survey_result-\"+speaker+\".csv\"\n",
    "filename"
   ]
  },
  {
   "cell_type": "code",
   "execution_count": null,
   "id": "953f2a7a",
   "metadata": {},
   "outputs": [],
   "source": [
    "df.to_csv(filename)"
   ]
  }
 ],
 "metadata": {
  "kernelspec": {
   "display_name": "Python 3 (ipykernel)",
   "language": "python",
   "name": "python3"
  },
  "language_info": {
   "codemirror_mode": {
    "name": "ipython",
    "version": 3
   },
   "file_extension": ".py",
   "mimetype": "text/x-python",
   "name": "python",
   "nbconvert_exporter": "python",
   "pygments_lexer": "ipython3",
   "version": "3.8.12"
  }
 },
 "nbformat": 4,
 "nbformat_minor": 5
}
