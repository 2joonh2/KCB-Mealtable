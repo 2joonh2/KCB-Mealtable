{
 "cells": [
  {
   "cell_type": "code",
   "execution_count": 25,
   "id": "78e9a8e9",
   "metadata": {},
   "outputs": [
    {
     "name": "stdout",
     "output_type": "stream",
     "text": [
      "['.git', '.gitattributes', '.ipynb_checkpoints', 'LICENSE', 'python-email', 'python-finance-portfolio-CPPI', 'python-folium-demo', 'python-stata-on-notebook', 'python-survey-automate-input', 'python-tkinter-practice', 'r-mealtable_scraping', 'tmp.ipynb']\n"
     ]
    }
   ],
   "source": [
    "import os\n",
    "print(os.listdir(os.getcwd()))"
   ]
  }
 ],
 "metadata": {
  "kernelspec": {
   "display_name": "Python 3 (ipykernel)",
   "language": "python",
   "name": "python3"
  },
  "language_info": {
   "codemirror_mode": {
    "name": "ipython",
    "version": 3
   },
   "file_extension": ".py",
   "mimetype": "text/x-python",
   "name": "python",
   "nbconvert_exporter": "python",
   "pygments_lexer": "ipython3",
   "version": "3.9.7"
  }
 },
 "nbformat": 4,
 "nbformat_minor": 5
}
