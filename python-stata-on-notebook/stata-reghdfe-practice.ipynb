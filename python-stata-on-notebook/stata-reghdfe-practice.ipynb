{
 "cells": [
  {
   "cell_type": "markdown",
   "id": "6f3d41ac",
   "metadata": {},
   "source": [
    "# Stata *REGHDFE* Practice"
   ]
  },
  {
   "cell_type": "markdown",
   "id": "4420312d",
   "metadata": {},
   "source": [
    "### http://scorreia.com/software/reghdfe/quickstart.html"
   ]
  },
  {
   "cell_type": "code",
   "execution_count": 1,
   "id": "a6335bfb",
   "metadata": {},
   "outputs": [
    {
     "name": "stdout",
     "output_type": "stream",
     "text": [
      "\n",
      "  ___  ____  ____  ____  ____ ®\n",
      " /__    /   ____/   /   ____/      17.0\n",
      "___/   /   /___/   /   /___/       SE—Standard Edition\n",
      "\n",
      " Statistics and Data Science       Copyright 1985-2021 StataCorp LLC\n",
      "                                   StataCorp\n",
      "                                   4905 Lakeway Drive\n",
      "                                   College Station, Texas 77845 USA\n",
      "                                   800-STATA-PC        https://www.stata.com\n",
      "                                   979-696-4600        stata@stata.com\n",
      "\n",
      "Stata license: Unlimited-user network, expiring 20 Mar 2022\n",
      "Serial number: 401709302059\n",
      "  Licensed to: Joonhee Lee\n",
      "               KAIST\n",
      "\n",
      "Notes:\n",
      "      1. Unicode is supported; see help unicode_advice.\n",
      "      2. Maximum number of variables is set to 5,000; see help set_maxvar.\n"
     ]
    }
   ],
   "source": [
    "import stata_setup\n",
    "stata_setup.config(\"C:/Program Files/Stata17\", \"se\")"
   ]
  },
  {
   "cell_type": "code",
   "execution_count": 2,
   "id": "e05c530c",
   "metadata": {},
   "outputs": [
    {
     "name": "stdout",
     "output_type": "stream",
     "text": [
      "\n",
      ". *set more off\n",
      ". version 13\n",
      "\n",
      ". clear all // removes data and value labels from memory\n",
      "\n",
      ". \n"
     ]
    }
   ],
   "source": [
    "%%stata\n",
    "*set more off\n",
    "version 13\n",
    "clear all // removes data and value labels from memory"
   ]
  },
  {
   "cell_type": "code",
   "execution_count": 3,
   "id": "9ec07e16",
   "metadata": {
    "scrolled": false
   },
   "outputs": [
    {
     "name": "stdout",
     "output_type": "stream",
     "text": [
      "\n",
      ". *ssc install reghdfe\n",
      ". *ssc install ftools\n",
      ". *help reghdfe\n",
      ". sysuse auto, clear // 1978 Automobile Data\n",
      "(1978 automobile data)\n",
      "\n",
      ". desc\n",
      "\n",
      "Contains data from C:\\Program Files\\Stata17/ado\\base/a/auto.dta\n",
      " Observations:            74                  1978 automobile data\n",
      "    Variables:            12                  13 Apr 2020 17:45\n",
      "                                              (_dta has notes)\n",
      "-------------------------------------------------------------------------------\n",
      "Variable      Storage   Display    Value\n",
      "    name         type    format    label      Variable label\n",
      "-------------------------------------------------------------------------------\n",
      "make            str18   %-18s                 Make and model\n",
      "price           int     %8.0gc                Price\n",
      "mpg             int     %8.0g                 Mileage (mpg)\n",
      "rep78           int     %8.0g                 Repair record 1978\n",
      "headroom        float   %6.1f                 Headroom (in.)\n",
      "trunk           int     %8.0g                 Trunk space (cu. ft.)\n",
      "weight          int     %8.0gc                Weight (lbs.)\n",
      "length          int     %8.0g                 Length (in.)\n",
      "turn            int     %8.0g                 Turn circle (ft.)\n",
      "displacement    int     %8.0g                 Displacement (cu. in.)\n",
      "gear_ratio      float   %6.2f                 Gear ratio\n",
      "foreign         byte    %8.0g      origin     Car origin\n",
      "-------------------------------------------------------------------------------\n",
      "Sorted by: foreign\n",
      "\n",
      ". \n"
     ]
    }
   ],
   "source": [
    "%%stata\n",
    "*ssc install reghdfe\n",
    "*ssc install ftools\n",
    "*help reghdfe\n",
    "sysuse auto, clear // 1978 Automobile Data\n",
    "desc"
   ]
  },
  {
   "cell_type": "code",
   "execution_count": 4,
   "id": "898a1880",
   "metadata": {},
   "outputs": [
    {
     "name": "stdout",
     "output_type": "stream",
     "text": [
      "\n",
      "    Variable |        Obs        Mean    Std. dev.       Min        Max\n",
      "-------------+---------------------------------------------------------\n",
      "        make |          0\n",
      "       price |         74    6165.257    2949.496       3291      15906\n",
      "         mpg |         74     21.2973    5.785503         12         41\n",
      "       rep78 |         69    3.405797    .9899323          1          5\n",
      "    headroom |         74    2.993243    .8459948        1.5          5\n",
      "-------------+---------------------------------------------------------\n",
      "       trunk |         74    13.75676    4.277404          5         23\n",
      "      weight |         74    3019.459    777.1936       1760       4840\n",
      "      length |         74    187.9324    22.26634        142        233\n",
      "        turn |         74    39.64865    4.399354         31         51\n",
      "displacement |         74    197.2973    91.83722         79        425\n",
      "-------------+---------------------------------------------------------\n",
      "  gear_ratio |         74    3.014865    .4562871       2.19       3.89\n",
      "     foreign |         74    .2972973    .4601885          0          1\n"
     ]
    }
   ],
   "source": [
    "%stata summarize"
   ]
  },
  {
   "cell_type": "markdown",
   "id": "9e20fa88",
   "metadata": {},
   "source": [
    "## Estimate an ols Regression with two levels of fixed effects"
   ]
  },
  {
   "cell_type": "code",
   "execution_count": 5,
   "id": "186b33dc",
   "metadata": {},
   "outputs": [
    {
     "name": "stdout",
     "output_type": "stream",
     "text": [
      "(dropped 9 singleton observations)\n",
      "(MWFE estimator converged in 11 iterations)\n",
      "\n",
      "HDFE Linear regression                            Number of obs   =         65\n",
      "Absorbing 2 HDFE groups                           F(   2,     38) =      12.85\n",
      "                                                  Prob > F        =     0.0001\n",
      "                                                  R-squared       =     0.6403\n",
      "                                                  Adj R-squared   =     0.3942\n",
      "                                                  Within R-sq.    =     0.4035\n",
      "                                                  Root MSE        =  2254.6288\n",
      "\n",
      "------------------------------------------------------------------------------\n",
      "       price | Coefficient  Std. err.      t    P>|t|     [95% conf. interval]\n",
      "-------------+----------------------------------------------------------------\n",
      "      weight |   5.688144   1.302818     4.37   0.000     3.050727    8.325561\n",
      "      length |  -44.21191   57.60797    -0.77   0.448    -160.8332    72.40933\n",
      "       _cons |  -2627.673   8851.647    -0.30   0.768     -20546.9    15291.55\n",
      "------------------------------------------------------------------------------\n",
      "\n",
      "Absorbed degrees of freedom:\n",
      "-----------------------------------------------------+\n",
      " Absorbed FE | Categories  - Redundant  = Num. Coefs |\n",
      "-------------+---------------------------------------|\n",
      "        turn |        13           0          13     |\n",
      "       trunk |        13           1          12     |\n",
      "-----------------------------------------------------+\n"
     ]
    }
   ],
   "source": [
    "%stata reghdfe price weight length, absorb(turn trunk)"
   ]
  },
  {
   "cell_type": "markdown",
   "id": "6f9d4eba",
   "metadata": {},
   "source": [
    "## Estimate an ols Regression with two-way clustering"
   ]
  },
  {
   "cell_type": "code",
   "execution_count": 6,
   "id": "8b6ea2f1",
   "metadata": {},
   "outputs": [
    {
     "name": "stdout",
     "output_type": "stream",
     "text": [
      "(dropped 9 singleton observations)\n",
      "(MWFE estimator converged in 11 iterations)\n",
      "Warning: VCV matrix was non-positive semi-definite; adjustment from Cameron, Ge\n",
      "> lbach & Miller applied.\n",
      "\n",
      "HDFE Linear regression                            Number of obs   =         65\n",
      "Absorbing 2 HDFE groups                           F(   2,     12) =      16.27\n",
      "Statistics robust to heteroskedasticity           Prob > F        =     0.0004\n",
      "                                                  R-squared       =     0.6403\n",
      "                                                  Adj R-squared   =     0.3778\n",
      "Number of clusters (turn)    =         13         Within R-sq.    =     0.4035\n",
      "Number of clusters (trunk)   =         13         Root MSE        =  2284.8937\n",
      "\n",
      "                            (Std. err. adjusted for 13 clusters in turn trunk)\n",
      "------------------------------------------------------------------------------\n",
      "             |               Robust\n",
      "       price | Coefficient  std. err.      t    P>|t|     [95% conf. interval]\n",
      "-------------+----------------------------------------------------------------\n",
      "      weight |   5.688144   2.860799     1.99   0.070    -.5450004    11.92129\n",
      "      length |  -44.21191   88.39209    -0.50   0.626    -236.8017    148.3779\n",
      "       _cons |  -2627.673   8626.332    -0.30   0.766    -21422.84    16167.49\n",
      "------------------------------------------------------------------------------\n",
      "\n",
      "Absorbed degrees of freedom:\n",
      "-----------------------------------------------------+\n",
      " Absorbed FE | Categories  - Redundant  = Num. Coefs |\n",
      "-------------+---------------------------------------|\n",
      "        turn |        13          13           0    *|\n",
      "       trunk |        13          13           0    *|\n",
      "-----------------------------------------------------+\n",
      "* = FE nested within cluster; treated as redundant for DoF computation\n"
     ]
    }
   ],
   "source": [
    "%stata reghdfe price weight length, absorb(turn trunk) vce(cluster turn trunk)"
   ]
  },
  {
   "cell_type": "markdown",
   "id": "02a6d61c",
   "metadata": {},
   "source": [
    "## Estimate an iv regression"
   ]
  },
  {
   "cell_type": "code",
   "execution_count": 7,
   "id": "e86f9317",
   "metadata": {},
   "outputs": [
    {
     "name": "stdout",
     "output_type": "stream",
     "text": [
      "(dropped 9 singleton observations)\n",
      "(MWFE estimator converged in 11 iterations)\n",
      "\n",
      "HDFE Linear regression                            Number of obs   =         65\n",
      "Absorbing 2 HDFE groups                           F(   1,     39) =      25.39\n",
      "                                                  Prob > F        =     0.0000\n",
      "                                                  R-squared       =     0.6347\n",
      "                                                  Adj R-squared   =     0.4005\n",
      "                                                  Within R-sq.    =     0.3943\n",
      "                                                  Root MSE        =  2242.7172\n",
      "\n",
      "------------------------------------------------------------------------------\n",
      "       price | Coefficient  Std. err.      t    P>|t|     [95% conf. interval]\n",
      "-------------+----------------------------------------------------------------\n",
      "      weight |   5.055336   1.003362     5.04   0.000     3.025846    7.084826\n",
      "       _cons |  -9011.564   3010.461    -2.99   0.005     -15100.8   -2922.332\n",
      "------------------------------------------------------------------------------\n",
      "\n",
      "Absorbed degrees of freedom:\n",
      "-----------------------------------------------------+\n",
      " Absorbed FE | Categories  - Redundant  = Num. Coefs |\n",
      "-------------+---------------------------------------|\n",
      "        turn |        13           0          13     |\n",
      "       trunk |        13           1          12     |\n",
      "-----------------------------------------------------+\n"
     ]
    }
   ],
   "source": [
    "%stata reghdfe price weight, absorb(turn trunk)"
   ]
  }
 ],
 "metadata": {
  "kernelspec": {
   "display_name": "Python 3 (ipykernel)",
   "language": "python",
   "name": "python3"
  },
  "language_info": {
   "codemirror_mode": {
    "name": "ipython",
    "version": 3
   },
   "file_extension": ".py",
   "mimetype": "text/x-python",
   "name": "python",
   "nbconvert_exporter": "python",
   "pygments_lexer": "ipython3",
   "version": "3.9.7"
  }
 },
 "nbformat": 4,
 "nbformat_minor": 5
}
